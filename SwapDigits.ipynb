{
  "nbformat": 4,
  "nbformat_minor": 0,
  "metadata": {
    "colab": {
      "provenance": [],
      "authorship_tag": "ABX9TyNqEXDCcledxPbAe/N983qn",
      "include_colab_link": true
    },
    "kernelspec": {
      "name": "python3",
      "display_name": "Python 3"
    },
    "language_info": {
      "name": "python"
    }
  },
  "cells": [
    {
      "cell_type": "markdown",
      "metadata": {
        "id": "view-in-github",
        "colab_type": "text"
      },
      "source": [
        "<a href=\"https://colab.research.google.com/github/LokeshReddy17/leetcode/blob/main/SwapDigits.ipynb\" target=\"_parent\"><img src=\"https://colab.research.google.com/assets/colab-badge.svg\" alt=\"Open In Colab\"/></a>"
      ]
    },
    {
      "cell_type": "code",
      "execution_count": 23,
      "metadata": {
        "colab": {
          "base_uri": "https://localhost:8080/"
        },
        "id": "wi1oAer1iDSW",
        "outputId": "c9b97c8d-ad90-47b6-a8f6-255951f764da"
      },
      "outputs": [
        {
          "output_type": "stream",
          "name": "stdout",
          "text": [
            "1000\n",
            "[1, 10, 100]\n",
            "True\n"
          ]
        }
      ],
      "source": [
        "\"\"\"\n",
        "You are given an array of non-negative integers numbers. You are allowed to choose any number from this array and swap any two digits in it. If after the swap operation the number contains leading zeros, they can be omitted and not considered (eg: 010 will be considered just 10).\n",
        "\n",
        "Your task is to check whether it is possible to apply the swap operation at most once, so that the elements of the resulting array are strictly increasing.\n",
        "\n",
        "Example\n",
        "\n",
        "For numbers = [1, 5, 10, 20], the output should be solution(numbers) = true.\n",
        "\n",
        "The initial array is already strictly increasing, so no actions are required.\n",
        "\n",
        "For numbers = [1, 3, 900, 10], the output should be solution(numbers) = true.\n",
        "\n",
        "By choosing numbers[2] = 900 and swapping its first and third digits, the resulting number 009 is considered to be just 9. So the updated array will look like [1, 3, 9, 10], which is strictly increasing.\n",
        "\n",
        "For numbers = [13, 31, 30], the output should be solution(numbers) = false.\n",
        "\n",
        "The initial array elements are not increasing.\n",
        "By swapping the digits of numbers[0] = 13, the array becomes [31, 31, 30] which is not strictly increasing;\n",
        "By swapping the digits of numbers[1] = 31, the array becomes [13, 13, 30] which is not strictly increasing;\n",
        "By swapping the digits of numbers[2] = 30, the array becomes [13, 31, 3] which is not strictly increasing;\n",
        "So, it's not possible to obtain a strictly increasing array, and the answer is false.\n",
        "\"\"\"\n",
        "\n",
        "from typing import List \n",
        "\n",
        "\n",
        "def solution(numbers):\n",
        "    \n",
        "\n",
        "    str1=''\n",
        "    n=len(numbers)\n",
        "    \n",
        "    for i in range(n-1,0,-1):\n",
        "        if numbers[i-1] >= numbers[i]:\n",
        "            print(numbers[i-1])\n",
        "            temp=str(numbers[i-1])[::-1]\n",
        "            numbers[i-1]=int(temp)\n",
        "        \n",
        "    print(numbers)\n",
        "\n",
        "    for a in range(n-1,0,-1):\n",
        "      if numbers[a] <= numbers[a-1]:\n",
        "        str1=str1+\"F\"\n",
        "      else:        \n",
        "        str1=str1+\"T\"\n",
        "\n",
        "    if \"F\" in str1:\n",
        "      return False\n",
        "    \n",
        "    return True\n",
        "\n",
        "\n",
        "s=solution(numbers = [1000, 10, 100])\n",
        "print(s)"
      ]
    }
  ]
}