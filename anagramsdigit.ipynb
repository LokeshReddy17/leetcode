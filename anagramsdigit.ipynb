{
  "nbformat": 4,
  "nbformat_minor": 0,
  "metadata": {
    "colab": {
      "provenance": [],
      "authorship_tag": "ABX9TyN2AnPtLaN9RutKukbEo9wl",
      "include_colab_link": true
    },
    "kernelspec": {
      "name": "python3",
      "display_name": "Python 3"
    },
    "language_info": {
      "name": "python"
    }
  },
  "cells": [
    {
      "cell_type": "markdown",
      "metadata": {
        "id": "view-in-github",
        "colab_type": "text"
      },
      "source": [
        "<a href=\"https://colab.research.google.com/github/LokeshReddy17/leetcode/blob/main/anagramsdigit.ipynb\" target=\"_parent\"><img src=\"https://colab.research.google.com/assets/colab-badge.svg\" alt=\"Open In Colab\"/></a>"
      ]
    },
    {
      "cell_type": "code",
      "execution_count": 16,
      "metadata": {
        "colab": {
          "base_uri": "https://localhost:8080/"
        },
        "id": "tMRedY-AhNkw",
        "outputId": "359766e6-4d4f-48b8-9c83-bdb03495bf5a"
      },
      "outputs": [
        {
          "output_type": "stream",
          "name": "stdout",
          "text": [
            "mp= {'25': 2, '35': 2, '278': 3, '228': 1, '78': 1, '0': 1, '1': 1}\n",
            "k= 2\n",
            "ans= 1\n",
            "k= 2\n",
            "ans= 2\n",
            "k= 3\n",
            "ans= 5\n",
            "k= 1\n",
            "ans= 5\n",
            "k= 1\n",
            "ans= 5\n",
            "k= 1\n",
            "ans= 5\n",
            "k= 1\n",
            "ans= 5\n",
            "5\n"
          ]
        }
      ],
      "source": [
        "\"\"\"Given an array of integers a, your task is to count the number of pairs i and j (where 0 ≤ i < j < a.length), such that a[i] and a[j] are digit anagrams.\n",
        "\n",
        "Two integers are considered to be digit anagrams if they contain the same digits. In other words, one can be obtained from the other by rearranging the digits (or trivially, if the numbers are equal). For example, 54275 and 45572 are digit anagrams, but 321 and 782 are not (since they don't contain the same digits). 220 and 22 are also not considered as digit anagrams, since they don't even have the same number of digits.\n",
        "\n",
        "Example\n",
        "\n",
        "For a = [25, 35, 872, 228, 53, 278, 872], the output should be solution(a) = 4.\n",
        "\n",
        "There are 4 pairs of digit anagrams:\n",
        "\n",
        "a[1] = 35 and a[4] = 53 (i = 1 and j = 4),\n",
        "a[2] = 872 and a[5] = 278 (i = 2 and j = 5),\n",
        "a[2] = 872 and a[6] = 872 (i = 2 and j = 6),\n",
        "a[5] = 278 and a[6] = 872 (i = 5 and j = 6).\n",
        "Input/Output\n",
        "\n",
        "[execution time limit] 6 seconds (py3)\n",
        "\n",
        "[input] array.integer a\n",
        "\n",
        "An array of non-negative integers.\n",
        "\n",
        "Guaranteed constraints:\n",
        "1 ≤ a.length ≤ 105,\n",
        "0 ≤ a[i] ≤ 109.\n",
        "\n",
        "[output] integer64\n",
        "\n",
        "The number of pairs i and j, such that a[i] and a[j] are digit anagrams.\"\"\"\n",
        "\n",
        "\n",
        "from typing import List\n",
        "\n",
        "def solution(a):\n",
        "\n",
        "    n=len(a)\n",
        "    # To store the count of sorted strings\n",
        "    mp = dict()\n",
        " \n",
        "    # Traverse all strings and store in the map\n",
        "    for i in range(n):\n",
        "        # Sort the string\n",
        "        temp_str = \"\".join(sorted(str(a[i])))\n",
        " \n",
        "        # If string exists in map, increment count\n",
        "        # Else create key value pair with count = 1\n",
        "        if temp_str in mp:\n",
        "            mp[temp_str] += 1\n",
        "        else:\n",
        "            mp[temp_str] = 1\n",
        " \n",
        "    print(\"mp=\",mp)\n",
        "    # To store the number of pairs\n",
        "    ans = 0\n",
        " \n",
        "    # Traverse through the map\n",
        "    for k in mp.values():\n",
        " \n",
        "        print(\"k=\",k)\n",
        "        # Count the pairs for each string\n",
        "        ans += (k * (k - 1)) // 2\n",
        " \n",
        "        print(\"ans=\",ans)\n",
        "    # Return the required answer\n",
        "    return ans\n",
        "    \n",
        "\n",
        "t=solution(a = [25, 35, 872, 228, 53, 278, 872,52,87,00,1])\n",
        "print(t)"
      ]
    }
  ]
}