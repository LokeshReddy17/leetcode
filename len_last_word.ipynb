{
  "nbformat": 4,
  "nbformat_minor": 0,
  "metadata": {
    "colab": {
      "provenance": [],
      "authorship_tag": "ABX9TyOxi9P2btq36yobE+Oe7KQs",
      "include_colab_link": true
    },
    "kernelspec": {
      "name": "python3",
      "display_name": "Python 3"
    },
    "language_info": {
      "name": "python"
    }
  },
  "cells": [
    {
      "cell_type": "markdown",
      "metadata": {
        "id": "view-in-github",
        "colab_type": "text"
      },
      "source": [
        "<a href=\"https://colab.research.google.com/github/LokeshReddy17/leetcode/blob/main/len_last_word.ipynb\" target=\"_parent\"><img src=\"https://colab.research.google.com/assets/colab-badge.svg\" alt=\"Open In Colab\"/></a>"
      ]
    },
    {
      "cell_type": "code",
      "execution_count": 1,
      "metadata": {
        "colab": {
          "base_uri": "https://localhost:8080/"
        },
        "id": "O0bwZtUxv8Iu",
        "outputId": "d5259f1b-89ca-4cc1-b5d6-b5fdb48909e7"
      },
      "outputs": [
        {
          "output_type": "stream",
          "name": "stdout",
          "text": [
            "31\n",
            "4\n"
          ]
        }
      ],
      "source": [
        "from typing import List\n",
        "\n",
        "def last_word(s):\n",
        "\n",
        "    i=0\n",
        "    count=0\n",
        "    prev_count=0\n",
        "    n=len(s)\n",
        "    print(n)\n",
        "\n",
        "    while(i < n):\n",
        "        if s[i] != ' ' and i < n:\n",
        "          count+=1\n",
        "          i+=1\n",
        "        else:\n",
        "          while(i<n and s[i] == ' '):\n",
        "            i+=1;\n",
        "\n",
        "          if(i==n):\n",
        "            return count\n",
        "          else:\n",
        "            count = 0\n",
        "\n",
        "    return count;\n",
        "\n",
        "s1=last_word(s=\"This is the new line of code   \")\n",
        "print(s1)"
      ]
    }
  ]
}