{
  "nbformat": 4,
  "nbformat_minor": 0,
  "metadata": {
    "colab": {
      "provenance": [],
      "authorship_tag": "ABX9TyOsvISLIIUtzpo1zBFCZpyn",
      "include_colab_link": true
    },
    "kernelspec": {
      "name": "python3",
      "display_name": "Python 3"
    },
    "language_info": {
      "name": "python"
    }
  },
  "cells": [
    {
      "cell_type": "markdown",
      "metadata": {
        "id": "view-in-github",
        "colab_type": "text"
      },
      "source": [
        "<a href=\"https://colab.research.google.com/github/LokeshReddy17/leetcode/blob/main/waystosplit.ipynb\" target=\"_parent\"><img src=\"https://colab.research.google.com/assets/colab-badge.svg\" alt=\"Open In Colab\"/></a>"
      ]
    },
    {
      "cell_type": "code",
      "execution_count": 6,
      "metadata": {
        "colab": {
          "base_uri": "https://localhost:8080/"
        },
        "id": "WFMvDUvJbpQz",
        "outputId": "b16299e5-239e-405e-f222-3f0d14f07e15"
      },
      "outputs": [
        {
          "output_type": "stream",
          "name": "stdout",
          "text": [
            "30\n"
          ]
        }
      ],
      "source": [
        "\"\"\"\n",
        "You are given a string s. Your task is to count the number of ways of splitting s into three non-empty parts a, b and c (s = a + b + c) in such a way that a + b, b + c and c + a are all different strings.\n",
        "\n",
        "NOTE: + refers to string concatenation.\n",
        "\n",
        "Example\n",
        "\n",
        "For s = \"xzxzx\", the output should be solution(s) = 5.\n",
        "\n",
        "Consider all the ways to split s into three non-empty parts:\n",
        "\n",
        "If a = \"x\", b = \"z\" and c = \"xzx\", then all a + b = \"xz\", b + c = \"zxzx\" and c + a = xzxx are different.\n",
        "If a = \"x\", b = \"zx\" and c = \"zx\", then all a + b = \"xzx\", b + c = \"zxzx\" and c + a = zxx are different.\n",
        "If a = \"x\", b = \"zxz\" and c = \"x\", then all a + b = \"xzxz\", b + c = \"zxzx\" and c + a = xx are different.\n",
        "If a = \"xz\", b = \"x\" and c = \"zx\", then a + b = b + c = \"xzx\". Hence, this split is not counted.\n",
        "If a = \"xz\", b = \"xz\" and c = \"x\", then all a + b = \"xzxz\", b + c = \"xzx\" and c + a = xxz are different.\n",
        "If a = \"xzx\", b = \"z\" and c = \"x\", then all a + b = \"xzxz\", b + c = \"zx\" and c + a = xxzx are different.\n",
        "Since there are five valid ways to split s, the answer is 5.\n",
        "\n",
        "Input/Output\n",
        "\n",
        "[execution time limit] 4 seconds (py3)\n",
        "\n",
        "[input] string s\n",
        "\n",
        "A string to split.\n",
        "\n",
        "Guaranteed constraints:\n",
        "3 ≤ s.length ≤ 100.\n",
        "\n",
        "[output] integer\n",
        "\n",
        "The number of ways to split the given string.\"\"\"\n",
        "\n",
        "\n",
        "\n",
        "\n",
        "from typing import List\n",
        "\n",
        "def solution(s):\n",
        "    \n",
        "    n = len(s)\n",
        "    count = 0\n",
        "    for i in range(1, n-1):\n",
        "        a = s[:i] \n",
        "        for j in range(i+1, n):\n",
        "            b = s[i:j] \n",
        "            c = s[j:] \n",
        "            if a+b != b+c and b+c != c+a and c+a != a+b:\n",
        "                count += 1\n",
        "    return count\n",
        "\n",
        "\n",
        "s1=solution(s=\"xzxzxzxzxz\")\n",
        "print(s1)"
      ]
    }
  ]
}