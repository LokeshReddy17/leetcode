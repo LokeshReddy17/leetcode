{
  "nbformat": 4,
  "nbformat_minor": 0,
  "metadata": {
    "colab": {
      "provenance": [],
      "authorship_tag": "ABX9TyOsvISLIIUtzpo1zBFCZpyn",
      "include_colab_link": true
    },
    "kernelspec": {
      "name": "python3",
      "display_name": "Python 3"
    },
    "language_info": {
      "name": "python"
    }
  },
  "cells": [
    {
      "cell_type": "markdown",
      "metadata": {
        "id": "view-in-github",
        "colab_type": "text"
      },
      "source": [
        "<a href=\"https://colab.research.google.com/github/LokeshReddy17/leetcode/blob/main/waystosplit.ipynb\" target=\"_parent\"><img src=\"https://colab.research.google.com/assets/colab-badge.svg\" alt=\"Open In Colab\"/></a>"
      ]
    },
    {
      "cell_type": "code",
      "execution_count": 5,
      "metadata": {
        "colab": {
          "base_uri": "https://localhost:8080/"
        },
        "id": "WFMvDUvJbpQz",
        "outputId": "c6dba405-867a-4039-90a2-119274088db4"
      },
      "outputs": [
        {
          "output_type": "stream",
          "name": "stdout",
          "text": [
            "a= xz b= zxzxzxzxz c= xzxzxzxzx\n",
            "a= xzx b= zxzxzxzxz c= zxzxzxzx\n",
            "a= xzxz b= zxzxzxzxz c= xzxzxzx\n",
            "a= xzxzx b= zxzxzxzxz c= zxzxzx\n",
            "a= xzxzxz b= zxzxzxzxz c= xzxzx\n",
            "a= xzxzxzx b= zxzxzxzxz c= zxzx\n",
            "a= xzxzxzxz b= zxzxzxzxz c= xzx\n",
            "a= xzxzxzxzx b= zxzxzxzxz c= zx\n",
            "a= xzx b= xzxzxzxz c= zxzxzxzxz\n",
            "a= xzxz b= xzxzxzxz c= xzxzxzxz\n",
            "a= xzxzx b= xzxzxzxz c= zxzxzxz\n",
            "a= xzxzxz b= xzxzxzxz c= xzxzxz\n",
            "a= xzxzxzx b= xzxzxzxz c= zxzxz\n",
            "a= xzxzxzxz b= xzxzxzxz c= xzxz\n",
            "a= xzxzxzxzx b= xzxzxzxz c= zxz\n",
            "a= xzxz b= zxzxzxz c= xzxzxzxzx\n",
            "a= xzxzx b= zxzxzxz c= zxzxzxzx\n",
            "a= xzxzxz b= zxzxzxz c= xzxzxzx\n",
            "a= xzxzxzx b= zxzxzxz c= zxzxzx\n",
            "a= xzxzxzxz b= zxzxzxz c= xzxzx\n",
            "a= xzxzxzxzx b= zxzxzxz c= zxzx\n",
            "a= xzxzx b= xzxzxz c= zxzxzxzxz\n",
            "a= xzxzxz b= xzxzxz c= xzxzxzxz\n",
            "a= xzxzxzx b= xzxzxz c= zxzxzxz\n",
            "a= xzxzxzxz b= xzxzxz c= xzxzxz\n",
            "a= xzxzxzxzx b= xzxzxz c= zxzxz\n",
            "a= xzxzxz b= zxzxz c= xzxzxzxzx\n",
            "a= xzxzxzx b= zxzxz c= zxzxzxzx\n",
            "a= xzxzxzxz b= zxzxz c= xzxzxzx\n",
            "a= xzxzxzxzx b= zxzxz c= zxzxzx\n",
            "a= xzxzxzx b= xzxz c= zxzxzxzxz\n",
            "a= xzxzxzxz b= xzxz c= xzxzxzxz\n",
            "a= xzxzxzxzx b= xzxz c= zxzxzxz\n",
            "a= xzxzxzxz b= zxz c= xzxzxzxzx\n",
            "a= xzxzxzxzx b= zxz c= zxzxzxzx\n",
            "a= xzxzxzxzx b= xz c= zxzxzxzxz\n",
            "32\n"
          ]
        }
      ],
      "source": [
        "\"\"\"\n",
        "You are given a string s. Your task is to count the number of ways of splitting s into three non-empty parts a, b and c (s = a + b + c) in such a way that a + b, b + c and c + a are all different strings.\n",
        "\n",
        "NOTE: + refers to string concatenation.\n",
        "\n",
        "Example\n",
        "\n",
        "For s = \"xzxzx\", the output should be solution(s) = 5.\n",
        "\n",
        "Consider all the ways to split s into three non-empty parts:\n",
        "\n",
        "If a = \"x\", b = \"z\" and c = \"xzx\", then all a + b = \"xz\", b + c = \"zxzx\" and c + a = xzxx are different.\n",
        "If a = \"x\", b = \"zx\" and c = \"zx\", then all a + b = \"xzx\", b + c = \"zxzx\" and c + a = zxx are different.\n",
        "If a = \"x\", b = \"zxz\" and c = \"x\", then all a + b = \"xzxz\", b + c = \"zxzx\" and c + a = xx are different.\n",
        "If a = \"xz\", b = \"x\" and c = \"zx\", then a + b = b + c = \"xzx\". Hence, this split is not counted.\n",
        "If a = \"xz\", b = \"xz\" and c = \"x\", then all a + b = \"xzxz\", b + c = \"xzx\" and c + a = xxz are different.\n",
        "If a = \"xzx\", b = \"z\" and c = \"x\", then all a + b = \"xzxz\", b + c = \"zx\" and c + a = xxzx are different.\n",
        "Since there are five valid ways to split s, the answer is 5.\n",
        "\n",
        "Input/Output\n",
        "\n",
        "[execution time limit] 4 seconds (py3)\n",
        "\n",
        "[input] string s\n",
        "\n",
        "A string to split.\n",
        "\n",
        "Guaranteed constraints:\n",
        "3 ≤ s.length ≤ 100.\n",
        "\n",
        "[output] integer\n",
        "\n",
        "The number of ways to split the given string.\"\"\"\n",
        "\n",
        "\n",
        "\n",
        "\n",
        "from typing import List\n",
        "\n",
        "def solution(s):\n",
        "    \n",
        "    n = len(s)\n",
        "    count = 0\n",
        "    for i in range(1, n-1):\n",
        "        a = s[:i] \n",
        "        for j in range(i+1, n):\n",
        "            b = s[i:j] \n",
        "            c = s[j:] \n",
        "            if a+b != b+c and b+c != c+a and c+a != a+b:\n",
        "                count += 1\n",
        "    return count\n",
        "\n",
        "\n",
        "s1=solution(s=\"xzxzxzxzxz\")\n",
        "print(s1)"
      ]
    }
  ]
}