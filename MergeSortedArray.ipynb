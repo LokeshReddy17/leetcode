{
  "nbformat": 4,
  "nbformat_minor": 0,
  "metadata": {
    "colab": {
      "provenance": [],
      "authorship_tag": "ABX9TyOSXhjnkwyRSHrU4XFDPezX",
      "include_colab_link": true
    },
    "kernelspec": {
      "name": "python3",
      "display_name": "Python 3"
    },
    "language_info": {
      "name": "python"
    }
  },
  "cells": [
    {
      "cell_type": "markdown",
      "metadata": {
        "id": "view-in-github",
        "colab_type": "text"
      },
      "source": [
        "<a href=\"https://colab.research.google.com/github/LokeshReddy17/leetcode/blob/main/MergeSortedArray.ipynb\" target=\"_parent\"><img src=\"https://colab.research.google.com/assets/colab-badge.svg\" alt=\"Open In Colab\"/></a>"
      ]
    },
    {
      "cell_type": "code",
      "execution_count": 6,
      "metadata": {
        "colab": {
          "base_uri": "https://localhost:8080/"
        },
        "id": "lILV0lWHE2FM",
        "outputId": "f023bc00-ec4e-4628-9592-8a2d24705b0e"
      },
      "outputs": [
        {
          "output_type": "execute_result",
          "data": {
            "text/plain": [
              "[1, 2, 2, 3, 5, 6]"
            ]
          },
          "metadata": {},
          "execution_count": 6
        }
      ],
      "source": [
        "from typing import List\n",
        "\n",
        "class Solution(object):\n",
        "    def merge(self, nums1, m, nums2, n):\n",
        "        # Initialize nums1's index\n",
        "        i = m - 1\n",
        "        # Initialize nums2's index\n",
        "        j = n - 1\n",
        "        # Initialize a variable k to store the last index of the 1st array...\n",
        "        k = m + n - 1\n",
        "        while j >= 0:\n",
        "            if i >= 0 and nums1[i] > nums2[j]:\n",
        "                nums1[k] = nums1[i]\n",
        "                k -= 1\n",
        "                i -= 1\n",
        "            else:\n",
        "                nums1[k] = nums2[j]\n",
        "                k -= 1\n",
        "                j -= 1\n",
        "        return nums1\n",
        "\n",
        "s1=Solution()\n",
        "s1.merge(nums1 = [1,2,3,0,0,0], m = 3, nums2 = [2,5,6], n = 3)"
      ]
    }
  ]
}