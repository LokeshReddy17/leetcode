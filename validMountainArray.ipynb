{
  "nbformat": 4,
  "nbformat_minor": 0,
  "metadata": {
    "colab": {
      "provenance": [],
      "authorship_tag": "ABX9TyP3WDHHeHIOoiewZotev5r6",
      "include_colab_link": true
    },
    "kernelspec": {
      "name": "python3",
      "display_name": "Python 3"
    },
    "language_info": {
      "name": "python"
    }
  },
  "cells": [
    {
      "cell_type": "markdown",
      "metadata": {
        "id": "view-in-github",
        "colab_type": "text"
      },
      "source": [
        "<a href=\"https://colab.research.google.com/github/LokeshReddy17/leetcode/blob/main/validMountainArray.ipynb\" target=\"_parent\"><img src=\"https://colab.research.google.com/assets/colab-badge.svg\" alt=\"Open In Colab\"/></a>"
      ]
    },
    {
      "cell_type": "code",
      "execution_count": 4,
      "metadata": {
        "colab": {
          "base_uri": "https://localhost:8080/"
        },
        "id": "NuZZPKU1z7r4",
        "outputId": "5953c26a-b243-40ab-abe4-c628a5f55476"
      },
      "outputs": [
        {
          "output_type": "execute_result",
          "data": {
            "text/plain": [
              "True"
            ]
          },
          "metadata": {},
          "execution_count": 4
        }
      ],
      "source": [
        "from typing import List \n",
        "\n",
        "class Solution():\n",
        "  def validMountainArray(self,A:List[int]) -> bool:\n",
        "    if(len(A) < 3):\n",
        "      return False\n",
        "\n",
        "    i=1\n",
        "    while(i < len(A) and A[i] > A[i-1]):\n",
        "      i+=1\n",
        "    \n",
        "    if(i==1 or i==len(A)):\n",
        "      return False\n",
        "\n",
        "    while(i < len(A) and A[i] < A[i-1]):\n",
        "      i+=1\n",
        "\n",
        "    return i== len(A)\n",
        "\n",
        "\n",
        "\n",
        "s1=Solution()\n",
        "s1.validMountainArray([1,2,3,4,2,1])"
      ]
    }
  ]
}