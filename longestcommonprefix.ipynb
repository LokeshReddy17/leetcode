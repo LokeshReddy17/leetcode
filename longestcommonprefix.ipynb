{
  "nbformat": 4,
  "nbformat_minor": 0,
  "metadata": {
    "colab": {
      "provenance": [],
      "authorship_tag": "ABX9TyPUdsBN6fTRB/ZzAb5IEdhy",
      "include_colab_link": true
    },
    "kernelspec": {
      "name": "python3",
      "display_name": "Python 3"
    },
    "language_info": {
      "name": "python"
    }
  },
  "cells": [
    {
      "cell_type": "markdown",
      "metadata": {
        "id": "view-in-github",
        "colab_type": "text"
      },
      "source": [
        "<a href=\"https://colab.research.google.com/github/LokeshReddy17/leetcode/blob/main/longestcommonprefix.ipynb\" target=\"_parent\"><img src=\"https://colab.research.google.com/assets/colab-badge.svg\" alt=\"Open In Colab\"/></a>"
      ]
    },
    {
      "cell_type": "code",
      "execution_count": null,
      "metadata": {
        "id": "LpRO3CQzWGPQ"
      },
      "outputs": [],
      "source": [
        "\"\"\"\n",
        "Problem 1: Write a function to find the longest common prefix string amongst an array of strings. If there is no common prefix, return an empty string \"\".\n",
        "\n",
        "Example:\n",
        "\n",
        "Input: [\"flower\",\"flow\",\"flight\"]\n",
        "\n",
        "Output: \"fl\"\n",
        "\n",
        "Input: [\"dog\",\"racecar\",\"car\"]\n",
        "\n",
        "Output: \"\"\n",
        "\n",
        "\"\"\"\n",
        "\n",
        "def longestCommonPrefix(strs):\n",
        "    if not strs:\n",
        "        return \"\"\n",
        "    prefix = strs[0]\n",
        "    for i in range(1, len(strs)):\n",
        "        while strs[i].find(prefix) != 0:\n",
        "            prefix = prefix[:len(prefix)-1]\n",
        "            if not prefix:\n",
        "                return \"\"\n",
        "    return prefix\n",
        "\n",
        "\"\"\"\n",
        "The time complexity of the solution I provided earlier is O(N * M), \n",
        "where N is the number of strings in the input array and M is the length of the longest string in the array. \n",
        "However, we can optimize the solution to have a time complexity of O(M * log N) by using a divide-and-conquer approach.\"\"\"\n",
        "\n",
        "def longestCommonPrefix(strs: Array[String]): String = {\n",
        "  if (strs.isEmpty) return \"\"\n",
        "  findCommonPrefix(strs, 0, strs.length - 1)\n",
        "}\n",
        "\n",
        "def findCommonPrefix(strs: Array[String], left: Int, right: Int): String = {\n",
        "  if (left == right) return strs(left)\n",
        "  val mid = (left + right) / 2\n",
        "  val leftPrefix = findCommonPrefix(strs, left, mid)\n",
        "  val rightPrefix = findCommonPrefix(strs, mid + 1, right)\n",
        "  findPrefix(leftPrefix, rightPrefix)\n",
        "}\n",
        "\n",
        "def findPrefix(left: String, right: String): String = {\n",
        "  val minLen = math.min(left.length, right.length)\n",
        "  for (i <- 0 until minLen) {\n",
        "    if (left(i) != right(i)) return left.substring(0, i)\n",
        "  }\n",
        "  left.substring(0, minLen)\n",
        "}"
      ]
    }
  ]
}