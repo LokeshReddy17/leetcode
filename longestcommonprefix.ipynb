{
  "nbformat": 4,
  "nbformat_minor": 0,
  "metadata": {
    "colab": {
      "provenance": [],
      "authorship_tag": "ABX9TyMKcn0AenYtHbUIAxfrInXD",
      "include_colab_link": true
    },
    "kernelspec": {
      "name": "python3",
      "display_name": "Python 3"
    },
    "language_info": {
      "name": "python"
    }
  },
  "cells": [
    {
      "cell_type": "markdown",
      "metadata": {
        "id": "view-in-github",
        "colab_type": "text"
      },
      "source": [
        "<a href=\"https://colab.research.google.com/github/LokeshReddy17/leetcode/blob/main/longestcommonprefix.ipynb\" target=\"_parent\"><img src=\"https://colab.research.google.com/assets/colab-badge.svg\" alt=\"Open In Colab\"/></a>"
      ]
    },
    {
      "cell_type": "code",
      "execution_count": null,
      "metadata": {
        "id": "LpRO3CQzWGPQ"
      },
      "outputs": [],
      "source": [
        "\"\"\"\n",
        "Problem 1: Write a function to find the longest common prefix string amongst an array of strings. If there is no common prefix, return an empty string \"\".\n",
        "\n",
        "Example:\n",
        "\n",
        "Input: [\"flower\",\"flow\",\"flight\"]\n",
        "\n",
        "Output: \"fl\"\n",
        "\n",
        "Input: [\"dog\",\"racecar\",\"car\"]\n",
        "\n",
        "Output: \"\"\n",
        "\n",
        "\"\"\"\n",
        "\n",
        "def longestCommonPrefix(strs):\n",
        "    if not strs:\n",
        "        return \"\"\n",
        "    prefix = strs[0]\n",
        "    for i in range(1, len(strs)):\n",
        "        while strs[i].find(prefix) != 0:\n",
        "            prefix = prefix[:len(prefix)-1]\n",
        "            if not prefix:\n",
        "                return \"\"\n",
        "    return prefix\n",
        "\n",
        "\"\"\"\n",
        "The time complexity of the solution I provided earlier is O(N * M), \n",
        "where N is the number of strings in the input array and M is the length of the longest string in the array. \n",
        "However, we can optimize the solution to have a time complexity of O(M * log N) by using a divide-and-conquer approach.\"\"\"\n",
        "\n",
        "def longestCommonPrefix(strs):\n",
        "    if not strs:\n",
        "        return \"\"\n",
        "    return find_common_prefix(strs, 0, len(strs)-1)\n",
        "\n",
        "def find_common_prefix(strs, left, right):\n",
        "    if left == right:\n",
        "        return strs[left]\n",
        "    mid = (left + right) // 2\n",
        "    left_prefix = find_common_prefix(strs, left, mid)\n",
        "    right_prefix = find_common_prefix(strs, mid+1, right)\n",
        "    return find_prefix(left_prefix, right_prefix)\n",
        "\n",
        "def find_prefix(left, right):\n",
        "    min_len = min(len(left), len(right))\n",
        "    for i in range(min_len):\n",
        "        if left[i] != right[i]:\n",
        "            return left[:i]\n",
        "    return left[:min_len]\n"
      ]
    }
  ]
}