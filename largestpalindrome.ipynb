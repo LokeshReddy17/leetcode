{
  "nbformat": 4,
  "nbformat_minor": 0,
  "metadata": {
    "colab": {
      "provenance": [],
      "authorship_tag": "ABX9TyM3hMOoQbQ2XkV8vzw8mFXr",
      "include_colab_link": true
    },
    "kernelspec": {
      "name": "python3",
      "display_name": "Python 3"
    },
    "language_info": {
      "name": "python"
    }
  },
  "cells": [
    {
      "cell_type": "markdown",
      "metadata": {
        "id": "view-in-github",
        "colab_type": "text"
      },
      "source": [
        "<a href=\"https://colab.research.google.com/github/LokeshReddy17/leetcode/blob/main/largestpalindrome.ipynb\" target=\"_parent\"><img src=\"https://colab.research.google.com/assets/colab-badge.svg\" alt=\"Open In Colab\"/></a>"
      ]
    },
    {
      "cell_type": "code",
      "execution_count": 10,
      "metadata": {
        "colab": {
          "base_uri": "https://localhost:8080/"
        },
        "id": "DnXvAblRS1iF",
        "outputId": "d2bdea94-d12f-4556-cbf5-d858c2b7c30b"
      },
      "outputs": [
        {
          "output_type": "stream",
          "name": "stdout",
          "text": [
            "codesignal\n"
          ]
        }
      ],
      "source": [
        "\"\"\" \n",
        "Codewriting\n",
        "\n",
        "You are given a string s. Consider the following algorithm applied to this string:\n",
        "\n",
        "Take all the prefixes of the string, and choose the longest palindrome between them.\n",
        "If this chosen prefix contains at least two characters, cut this prefix from s and go back to the first step with the updated string. Otherwise, end the algorithm with the current string s as a result.\n",
        "Your task is to implement the above algorithm and return its result when applied to string s.\n",
        "\n",
        "Note: you can click on the prefixes and palindrome words to see the definition of the terms if you're not familiar with them.\n",
        "\n",
        "Example\n",
        "\n",
        "For s = \"aaacodedoc\", the output should be solution(s) = \"\".\n",
        "\n",
        "The initial string s = \"aaacodedoc\" contains only three prefixes which are also palindromes - \"a\", \"aa\", \"aaa\". The longest one between them is \"aaa\", so we cut it from s.\n",
        "Now we have string \"codedoc\". It contains two prefixes which are also palindromes - \"c\" and \"codedoc\". The longest one between them is \"codedoc\", so we cut it from the current string and obtain the empty string.\n",
        "Finally the algorithm ends on the empty string, so the answer is \"\".\n",
        "For s = \"codesignal\", the output should be solution(s) = \"codesignal\".\n",
        "The initial string s = \"codesignal\" contains the only prefix, which is also palindrome - \"c\". This prefix is the longest, but doesn't contain two characters, so the algorithm ends with string \"codesignal\" as a result.\n",
        "\n",
        "For s = \"\", the output should be solution(s) = \"\".\n",
        "\n",
        "Input/Output\n",
        "\n",
        "[execution time limit] 4 seconds (py3)\n",
        "\n",
        "[input] string s\n",
        "\n",
        "A string consisting of English lowercase letters.\n",
        "\n",
        "Guaranteed constraints:\n",
        "0 ≤ s.length ≤ 1000.\n",
        "\n",
        "[output] string\n",
        "\n",
        "The result of the described algorithm. \"\"\"\n",
        "\n",
        "\n",
        "from typing import List\n",
        "\n",
        "def solution(s):\n",
        "    t=s\n",
        "    while len(s) > 0:\n",
        "        largest_palindrome = 0\n",
        "        for i in range(len(s)):\n",
        "            if s[:i+1] == s[:i+1][::-1]:\n",
        "                largest_palindrome = i+1\n",
        "        s = s[largest_palindrome:]\n",
        "\n",
        "    if s == \"\":\n",
        "      return t\n",
        "    else:\n",
        "      return s\n",
        "\n",
        "s=solution(s=\"codesignal\")\n",
        "print(s)"
      ]
    }
  ]
}