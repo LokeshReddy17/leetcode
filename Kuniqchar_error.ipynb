{
  "nbformat": 4,
  "nbformat_minor": 0,
  "metadata": {
    "colab": {
      "provenance": [],
      "authorship_tag": "ABX9TyPZ9EGFguAQPQ1JzWJ+VQ38",
      "include_colab_link": true
    },
    "kernelspec": {
      "name": "python3",
      "display_name": "Python 3"
    },
    "language_info": {
      "name": "python"
    }
  },
  "cells": [
    {
      "cell_type": "markdown",
      "metadata": {
        "id": "view-in-github",
        "colab_type": "text"
      },
      "source": [
        "<a href=\"https://colab.research.google.com/github/LokeshReddy17/leetcode/blob/main/Kuniqchar_error.ipynb\" target=\"_parent\"><img src=\"https://colab.research.google.com/assets/colab-badge.svg\" alt=\"Open In Colab\"/></a>"
      ]
    },
    {
      "cell_type": "code",
      "execution_count": 1,
      "metadata": {
        "colab": {
          "base_uri": "https://localhost:8080/"
        },
        "id": "h3HZV8ENFTGS",
        "outputId": "61b96f48-1fd6-40c4-cc79-a4d81420b638"
      },
      "outputs": [
        {
          "output_type": "stream",
          "name": "stdout",
          "text": [
            "temp_word= ab\n",
            "temp_word= aba\n",
            "word1= aba\n",
            "temp_word= abab\n",
            "word1= abab\n",
            "temp_word= ababc\n",
            "temp_word= babc\n",
            "temp_word= abc\n",
            "temp_word= bc\n",
            "temp_word= bcb\n",
            "temp_word= bcbc\n",
            "temp_word= bcbcc\n",
            "word1= bcbcc\n",
            "temp_word= bcbcca\n",
            "bcbcca\n"
          ]
        }
      ],
      "source": [
        "from typing import List\n",
        "\n",
        "def KUniqueCharacters(string):\n",
        "\n",
        "    k = int(string[0])\n",
        "    temp_word = word = string[1:k+1]\n",
        "    word_end = k\n",
        "    print(\"temp_word=\",temp_word) \n",
        "    \n",
        "    while word_end < len(string) - 1:\n",
        "\n",
        "        if len(set(temp_word)) <= k:\n",
        "            if len(temp_word) > len(word):\n",
        "                word = temp_word\n",
        "                print(\"word1=\",word)\n",
        "            word_end += 1\n",
        "            temp_word = temp_word + string[word_end]\n",
        "        else:\n",
        "            temp_word = temp_word[1:len(temp_word)]\n",
        "        print(\"temp_word=\",temp_word)\n",
        "\n",
        "    if len(temp_word) > len(word):\n",
        "        word = temp_word\n",
        "    return word\n",
        "\n",
        "\n",
        "s1=KUniqueCharacters(\"2ababcbcca\")\n",
        "print(s1)"
      ]
    }
  ]
}