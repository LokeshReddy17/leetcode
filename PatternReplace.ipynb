{
  "nbformat": 4,
  "nbformat_minor": 0,
  "metadata": {
    "colab": {
      "provenance": [],
      "authorship_tag": "ABX9TyN0gU9UnhRG38jo1OwAjcw2",
      "include_colab_link": true
    },
    "kernelspec": {
      "name": "python3",
      "display_name": "Python 3"
    },
    "language_info": {
      "name": "python"
    }
  },
  "cells": [
    {
      "cell_type": "markdown",
      "metadata": {
        "id": "view-in-github",
        "colab_type": "text"
      },
      "source": [
        "<a href=\"https://colab.research.google.com/github/LokeshReddy17/leetcode/blob/main/PatternReplace.ipynb\" target=\"_parent\"><img src=\"https://colab.research.google.com/assets/colab-badge.svg\" alt=\"Open In Colab\"/></a>"
      ]
    },
    {
      "cell_type": "code",
      "execution_count": null,
      "metadata": {
        "id": "bolqiuh0i7p2"
      },
      "outputs": [],
      "source": [
        "\"\"\"\n",
        "You are given two strings - pattern and source. The first string pattern contains only the symbols 0 and 1, and the second string source contains only lowercase English letters.\n",
        "\n",
        "Let's say that pattern matches a substring source[l..r] of source if the following three conditions are met:\n",
        "\n",
        "they have equal length,\n",
        "for each 0 in pattern the corresponding letter in the substring is a vowel,\n",
        "for each 1 in pattern the corresponding letter is a consonant.\n",
        "Your task is to calculate the number of substrings of source that match pattern.\n",
        "\n",
        "Note: In this task we define the vowels as 'a', 'e', 'i', 'o', 'u', and 'y'. All other letters are consonants.\n",
        "\n",
        "Example\n",
        "\n",
        "For pattern = \"010\" and source = \"amazing\", the output should be solution(pattern, source) = 2.\n",
        "Expand to see the example video.\n",
        "\n",
        "Note: If you are not able to see the video, use this link to access it.\n",
        "\n",
        "\"010\" matches source[0..2] = \"ama\", because both 0s match a, which is a vowel, and 1 match m, which is a consonant;\n",
        "\"010\" doesn't match source[1..3] = \"maz\", because the first 0 corresponds to an m, which is a consonant, not a vowel;\n",
        "\"010\" matches source[2..4] = \"azi\", because the first 0 matches an a (vowel), 1 matches z (consonant), and the second 0 matches i (vowel);\n",
        "\"010\" doesn't match source[3..5] = \"zin\", because the first 0 corresponds to a consonant (z);\n",
        "\"010\" doesn't match source[4..6] = \"ing\", because the second 0 corresponds to the letter g, which is a consonant.\n",
        "So, there are only 2 matches.\n",
        "\n",
        "For pattern = \"100\" and source = \"codesignal\", the output should be solution(pattern, source) = 0.\n",
        "\n",
        "There are no double vowels in the string \"codesignal\", so it's not possible for any of its substrings to match this pattern.\n",
        "\n",
        "Input/Output\n",
        "\n",
        "[execution time limit] 4 seconds (py3)\n",
        "\n",
        "[input] string pattern\n",
        "\n",
        "A string of 0s and 1s.\n",
        "\n",
        "Guaranteed constraints:\n",
        "1 ≤ pattern.length ≤ 103.\n",
        "\n",
        "[input] string source\n",
        "\n",
        "A string of lowercase English letters.\n",
        "\n",
        "Guaranteed constraints:\n",
        "1 ≤ source.length ≤ 103.\n",
        "\n",
        "[output] integer\n",
        "\n",
        "The number of substrings of source that match pattern.\"\"\"\n",
        "\n",
        "\n",
        "from typing import List\n",
        "\n",
        "def solution(pattern, source):\n",
        "    \n",
        "  n = len(pattern)\n",
        "  cnt = 0\n",
        "  for i in range(len(source)-n+1):\n",
        "    flag = True\n",
        "    for j in range(n):\n",
        "      if pattern[j] == '0':\n",
        "        if source[i+j] not in 'aeiouy':\n",
        "          flag = False\n",
        "          break\n",
        "      else:\n",
        "        if source[i+j] in 'aeiouy':\n",
        "          flag = False\n",
        "          break\n",
        "    if flag:\n",
        "      cnt += 1\n",
        "  return cnt\n",
        "\n"
      ]
    }
  ]
}