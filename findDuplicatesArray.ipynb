{
  "nbformat": 4,
  "nbformat_minor": 0,
  "metadata": {
    "colab": {
      "provenance": [],
      "authorship_tag": "ABX9TyNoIAdiFE+HHiySeVGqfCUw",
      "include_colab_link": true
    },
    "kernelspec": {
      "name": "python3",
      "display_name": "Python 3"
    },
    "language_info": {
      "name": "python"
    }
  },
  "cells": [
    {
      "cell_type": "markdown",
      "metadata": {
        "id": "view-in-github",
        "colab_type": "text"
      },
      "source": [
        "<a href=\"https://colab.research.google.com/github/LokeshReddy17/leetcode/blob/main/findDuplicatesArray.ipynb\" target=\"_parent\"><img src=\"https://colab.research.google.com/assets/colab-badge.svg\" alt=\"Open In Colab\"/></a>"
      ]
    },
    {
      "cell_type": "code",
      "execution_count": 18,
      "metadata": {
        "colab": {
          "base_uri": "https://localhost:8080/"
        },
        "id": "oCWiEBOI145U",
        "outputId": "e843b43f-a2f3-4175-f3d0-d90a20701151"
      },
      "outputs": [
        {
          "output_type": "execute_result",
          "data": {
            "text/plain": [
              "[0, 1, 2, 3]"
            ]
          },
          "metadata": {},
          "execution_count": 18
        }
      ],
      "source": [
        "from typing import List\n",
        "class Solution:\n",
        "    def findDuplicates(self, nums: List[int]) -> List[int]:\n",
        "        hash_table=dict()\n",
        "        l=list()\n",
        "\n",
        "        for i in nums:\n",
        "            if i in hash_table:\n",
        "                hash_table[i] += 1\n",
        "            else:\n",
        "                hash_table[i] = 1\n",
        "  \n",
        "        for i,j in hash_table.items():\n",
        "          if j >= 2 :\n",
        "            l.append(i)\n",
        "\n",
        "        return l\n",
        "        \n",
        "\n",
        "s1=Solution()\n",
        "s1.findDuplicates([0,0,1,1,1,2,2,3,3,4])"
      ]
    }
  ]
}