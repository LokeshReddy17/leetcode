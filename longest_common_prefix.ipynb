{
  "nbformat": 4,
  "nbformat_minor": 0,
  "metadata": {
    "colab": {
      "provenance": [],
      "authorship_tag": "ABX9TyPvoAJqjv55ngkyLFCwm31n",
      "include_colab_link": true
    },
    "kernelspec": {
      "name": "python3",
      "display_name": "Python 3"
    },
    "language_info": {
      "name": "python"
    }
  },
  "cells": [
    {
      "cell_type": "markdown",
      "metadata": {
        "id": "view-in-github",
        "colab_type": "text"
      },
      "source": [
        "<a href=\"https://colab.research.google.com/github/LokeshReddy17/leetcode/blob/main/longest_common_prefix.ipynb\" target=\"_parent\"><img src=\"https://colab.research.google.com/assets/colab-badge.svg\" alt=\"Open In Colab\"/></a>"
      ]
    },
    {
      "cell_type": "code",
      "execution_count": 16,
      "metadata": {
        "colab": {
          "base_uri": "https://localhost:8080/"
        },
        "id": "mwYA0aQGDie8",
        "outputId": "df714086-55f5-4ba4-9dc0-399d704fdbaf"
      },
      "outputs": [
        {
          "output_type": "stream",
          "name": "stdout",
          "text": [
            "fl\n"
          ]
        }
      ],
      "source": [
        "from typing import List\n",
        "\n",
        "def longestCommonPrefix(strs: List[str]) -> str:\n",
        "\n",
        "  ans=\"\"\n",
        "  s=min(strs,key=len)\n",
        "\n",
        "  for i in range(len(s)):\n",
        "    for j in range(len(strs)):\n",
        "      if s[i]!=strs[j][i]:\n",
        "        return ans\n",
        "\n",
        "    ans+=s[i]\n",
        "\n",
        "  return ans\n",
        "\n",
        "s1=longestCommonPrefix(strs = [\"flower\",\"flow\",\"flight\"])\n",
        "print(s1)"
      ]
    }
  ]
}