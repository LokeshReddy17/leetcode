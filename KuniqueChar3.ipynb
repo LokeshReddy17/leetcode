{
  "nbformat": 4,
  "nbformat_minor": 0,
  "metadata": {
    "colab": {
      "provenance": [],
      "authorship_tag": "ABX9TyOcfb+phcgHeTFxSuJ0kBOE",
      "include_colab_link": true
    },
    "kernelspec": {
      "name": "python3",
      "display_name": "Python 3"
    },
    "language_info": {
      "name": "python"
    }
  },
  "cells": [
    {
      "cell_type": "markdown",
      "metadata": {
        "id": "view-in-github",
        "colab_type": "text"
      },
      "source": [
        "<a href=\"https://colab.research.google.com/github/LokeshReddy17/leetcode/blob/main/KuniqueChar3.ipynb\" target=\"_parent\"><img src=\"https://colab.research.google.com/assets/colab-badge.svg\" alt=\"Open In Colab\"/></a>"
      ]
    },
    {
      "cell_type": "code",
      "execution_count": 1,
      "metadata": {
        "colab": {
          "base_uri": "https://localhost:8080/"
        },
        "id": "EOklsVic4aKx",
        "outputId": "b3c24c1b-04e3-413c-f0f8-0c7f52474509"
      },
      "outputs": [
        {
          "output_type": "stream",
          "name": "stdout",
          "text": [
            "aabba\n"
          ]
        }
      ],
      "source": [
        "def longest_substring_with_k_unique_characters(input_string, k): \n",
        "    window_start = 0\n",
        "    max_length = 0\n",
        "    max_substring = \"\"\n",
        "    char_frequency = {}\n",
        "\n",
        "    # In the following loop we'll try to extend the range [window_start, window_end] \n",
        "    for window_end in range(len(input_string)): \n",
        "        right_char = input_string[window_end]\n",
        "        if right_char not in char_frequency: \n",
        "            char_frequency[right_char] = 0\n",
        "        char_frequency[right_char] += 1\n",
        "\n",
        "        # shrink the sliding window, until we are left with 'k' distinct characters in the char_frequency \n",
        "        while len(char_frequency) > k: \n",
        "            left_char = input_string[window_start] \n",
        "            char_frequency[left_char] -= 1\n",
        "            if char_frequency[left_char] == 0: \n",
        "                del char_frequency[left_char] \n",
        "            window_start += 1 \n",
        "\n",
        "        # remember the maximum length so far \n",
        "        if window_end - window_start + 1 > max_length: \n",
        "            max_length = window_end - window_start + 1\n",
        "            max_substring = input_string[window_start: window_end + 1] \n",
        "\n",
        "    return max_substring\n",
        "\n",
        "\n",
        "s=longest_substring_with_k_unique_characters(\"aabbacbaa\",2)\n",
        "print(s)"
      ]
    }
  ]
}