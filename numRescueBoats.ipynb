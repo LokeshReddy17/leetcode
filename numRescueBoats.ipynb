{
  "nbformat": 4,
  "nbformat_minor": 0,
  "metadata": {
    "colab": {
      "provenance": [],
      "authorship_tag": "ABX9TyMMXjTxkf4MDjOTwOzyzMel",
      "include_colab_link": true
    },
    "kernelspec": {
      "name": "python3",
      "display_name": "Python 3"
    },
    "language_info": {
      "name": "python"
    }
  },
  "cells": [
    {
      "cell_type": "markdown",
      "metadata": {
        "id": "view-in-github",
        "colab_type": "text"
      },
      "source": [
        "<a href=\"https://colab.research.google.com/github/LokeshReddy17/leetcode/blob/main/numRescueBoats.ipynb\" target=\"_parent\"><img src=\"https://colab.research.google.com/assets/colab-badge.svg\" alt=\"Open In Colab\"/></a>"
      ]
    },
    {
      "cell_type": "code",
      "execution_count": 3,
      "metadata": {
        "colab": {
          "base_uri": "https://localhost:8080/"
        },
        "id": "lEMIGsrLYcj1",
        "outputId": "da542006-2a4d-4363-f0c2-7ad5c83ba49c"
      },
      "outputs": [
        {
          "output_type": "stream",
          "name": "stdout",
          "text": [
            "3\n"
          ]
        }
      ],
      "source": [
        "from typing import List\n",
        "\n",
        "class Solution:\n",
        "    def numRescueBoats(self, people: List[int], limit: int) -> int:\n",
        "      people.sort()\n",
        "      left=0\n",
        "      right=len(people)-1\n",
        "      boat_number=0\n",
        "      while(left <=right):\n",
        "        if(left == right):\n",
        "          boat_number+=1\n",
        "          break\n",
        "        if(people[left]+people[right] <= limit):\n",
        "          left+=1\n",
        "\n",
        "        right-=1\n",
        "        boat_number+=1\n",
        "      \n",
        "      print(boat_number)\n",
        "\n",
        "\n",
        "s1=Solution()\n",
        "s1.numRescueBoats(people=[3,1,2,2,3,1], limit=4) \n"
      ]
    }
  ]
}