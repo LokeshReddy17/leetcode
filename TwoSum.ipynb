from typing import List

class Solution:
  def twoSum(self,nums: List[int],target:int) -> List[int]:
    dict={}
    for i in range(0,len(nums)):
      complement=target - nums[i]
      if complement in dict:
        return [i,dict[complement]]
      dict[nums[i]]=i

"""
    hash_map = {}
    for i in range(len(nums)):
      if nums[i] in hash_map:
        return [i, hash_map[nums[i]]]
      else:
        hash_map[target - nums[i]] = i

"""


s1=Solution()
s1.twoSum([2,7,11,15],9)
