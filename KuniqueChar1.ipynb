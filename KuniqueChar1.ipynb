{
  "nbformat": 4,
  "nbformat_minor": 0,
  "metadata": {
    "colab": {
      "provenance": [],
      "authorship_tag": "ABX9TyPw5zcHZF2wwLd5ff3zWcPB",
      "include_colab_link": true
    },
    "kernelspec": {
      "name": "python3",
      "display_name": "Python 3"
    },
    "language_info": {
      "name": "python"
    }
  },
  "cells": [
    {
      "cell_type": "markdown",
      "metadata": {
        "id": "view-in-github",
        "colab_type": "text"
      },
      "source": [
        "<a href=\"https://colab.research.google.com/github/LokeshReddy17/leetcode/blob/main/KuniqueChar1.ipynb\" target=\"_parent\"><img src=\"https://colab.research.google.com/assets/colab-badge.svg\" alt=\"Open In Colab\"/></a>"
      ]
    },
    {
      "cell_type": "code",
      "execution_count": 49,
      "metadata": {
        "colab": {
          "base_uri": "https://localhost:8080/"
        },
        "id": "z01BbVUS949m",
        "outputId": "fd414479-03c1-41d6-c7c4-5285faa378fc"
      },
      "outputs": [
        {
          "output_type": "stream",
          "name": "stdout",
          "text": [
            "0\n",
            "None\n"
          ]
        }
      ],
      "source": [
        "from typing import List\n",
        "\n",
        "def KUniqueCharacters(string):\n",
        "\n",
        "    k = int(string[0])\n",
        "    str_value=string[1:len(string)]\n",
        "    temp_word = word = string[1:k+1]\n",
        "    word_end = k\n",
        "\n",
        "    i=0\n",
        "    j=0\n",
        "    max_size=0\n",
        "    \n",
        "    m={}\n",
        "    while j < len(str_value):      \n",
        "      if str_value[j] in m:\n",
        "        m[str_value[j]] += 1\n",
        "        if len(m) < k:\n",
        "          j += 1\n",
        "        elif len(m) == k:\n",
        "          max_size=max(max_size,j-i+1)\n",
        "        elif len(m) > k:\n",
        "          while len(m) > k:\n",
        "            m[str_value[i]] -= 1\n",
        "            if( m[str_value[i]] == 0):\n",
        "              del m[str_value[i]]\n",
        "            i += 1\n",
        "      j += 1\n",
        "   \n",
        "    print(max_size)\n",
        "        \n",
        "s1=KUniqueCharacters(\"2aabbacbaa\")\n",
        "print(s1)\n",
        "\n"
      ]
    }
  ]
}