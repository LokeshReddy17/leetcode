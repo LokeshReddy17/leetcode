{
  "nbformat": 4,
  "nbformat_minor": 0,
  "metadata": {
    "colab": {
      "provenance": [],
      "authorship_tag": "ABX9TyOvBIkE0FG8VouuXkBP3BOP",
      "include_colab_link": true
    },
    "kernelspec": {
      "name": "python3",
      "display_name": "Python 3"
    },
    "language_info": {
      "name": "python"
    }
  },
  "cells": [
    {
      "cell_type": "markdown",
      "metadata": {
        "id": "view-in-github",
        "colab_type": "text"
      },
      "source": [
        "<a href=\"https://colab.research.google.com/github/LokeshReddy17/leetcode/blob/main/KuniqueCharMaxlen1.ipynb\" target=\"_parent\"><img src=\"https://colab.research.google.com/assets/colab-badge.svg\" alt=\"Open In Colab\"/></a>"
      ]
    },
    {
      "cell_type": "code",
      "execution_count": 1,
      "metadata": {
        "colab": {
          "base_uri": "https://localhost:8080/"
        },
        "id": "-0GeRfBFr5Lf",
        "outputId": "b3a98a4d-4d31-491e-f16d-1dc6830d2d44"
      },
      "outputs": [
        {
          "output_type": "stream",
          "name": "stdout",
          "text": [
            "aabba\n"
          ]
        }
      ],
      "source": [
        "\n",
        "\n",
        "\n",
        "\n",
        "from typing import List\n",
        "\n",
        "CHAR_RANGE = 128\n",
        "\n",
        "def KUniqueCharacters(string):\n",
        "\n",
        "    k = int(string[0])\n",
        "    s=string[1:len(string)]\n",
        "\n",
        "\n",
        "    # stores the longest substring boundaries\n",
        "    end = begin = 0\n",
        " \n",
        "    # set to store distinct characters in a window\n",
        "    window = set()\n",
        " \n",
        "    # `freq` stores the frequency of characters present in the\n",
        "    # current window. We can also use a dictionary instead.\n",
        " \n",
        "    freq = [0] * CHAR_RANGE\n",
        " \n",
        "    # `[low…high]` maintains the sliding window boundaries\n",
        "    low = high = 0\n",
        " \n",
        "    while high < len(s):\n",
        " \n",
        "        window.add(s[high])\n",
        "        freq[ord(s[high])] = freq[ord(s[high])] + 1\n",
        " \n",
        "        # if the window size is more than `k`, remove characters from the left\n",
        "        while len(window) > k:\n",
        " \n",
        "            # If the leftmost character's frequency becomes 0 after\n",
        "            # removing it in the window, remove it from the set as well\n",
        "            freq[ord(s[low])] = freq[ord(s[low])] - 1\n",
        "            if freq[ord(s[low])] == 0:\n",
        "                window.remove(s[low])\n",
        " \n",
        "            low = low + 1        # reduce window size\n",
        " \n",
        "        # update the maximum window size if necessary\n",
        "        if end - begin < high - low:\n",
        "            end = high\n",
        "            begin = low\n",
        " \n",
        "        high = high + 1\n",
        " \n",
        "    # return the longest substring found at `s[begin…end]`\n",
        "    return s[begin:end + 1]\n",
        "\n",
        "\n",
        "\n",
        "\n",
        "s1=KUniqueCharacters(\"2aabbacbaa\")\n",
        "print(s1)\n",
        " "
      ]
    }
  ]
}