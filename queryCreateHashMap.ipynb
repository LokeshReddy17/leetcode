{
  "nbformat": 4,
  "nbformat_minor": 0,
  "metadata": {
    "colab": {
      "provenance": [],
      "authorship_tag": "ABX9TyNZeSR7ITIEbVKmNYBnXDb/",
      "include_colab_link": true
    },
    "kernelspec": {
      "name": "python3",
      "display_name": "Python 3"
    },
    "language_info": {
      "name": "python"
    }
  },
  "cells": [
    {
      "cell_type": "markdown",
      "metadata": {
        "id": "view-in-github",
        "colab_type": "text"
      },
      "source": [
        "<a href=\"https://colab.research.google.com/github/LokeshReddy17/leetcode/blob/main/queryCreateHashMap.ipynb\" target=\"_parent\"><img src=\"https://colab.research.google.com/assets/colab-badge.svg\" alt=\"Open In Colab\"/></a>"
      ]
    },
    {
      "cell_type": "code",
      "execution_count": 51,
      "metadata": {
        "colab": {
          "base_uri": "https://localhost:8080/"
        },
        "id": "W4SMeK8nfKN9",
        "outputId": "67f13c89-d132-4ab6-ac35-303f5a0a122a"
      },
      "outputs": [
        {
          "output_type": "stream",
          "name": "stdout",
          "text": [
            "{1: 2}\n",
            "{1: 4}\n",
            "4\n",
            "{1: 4, 2: 3}\n",
            "{2: 4, 3: 3}\n",
            "{2: 3, 3: 2}\n",
            "6\n",
            "6\n"
          ]
        }
      ],
      "source": [
        "from typing import List\n",
        "\n",
        "\"\"\"/*For queryType = [\"insert\", \"addToValue\", \"get\", \"insert\", \"addToKey\", \"addToValue\", \"get\"] \n",
        "     and query = [[1, 2], [2], [1], [2, 3], [1], [-1], [3]], the output should be solution(queryType, query) = 6.\n",
        "\n",
        "The hashmap looks like this after each query:\n",
        "\n",
        "1 query: {1: 2}\n",
        "2 query: {1: 4}\n",
        "3 query: answer is 4\n",
        "4 query: {1: 4, 2: 3}\n",
        "5 query: {2: 4, 3: 3}\n",
        "6 query: {2: 3, 3: 2}\n",
        "7 query: answer is 2\n",
        "The sum of the results for all the get queries is equal to 4 + 2 = 6.*/\"\"\"\n",
        "\n",
        "\n",
        "def solution(queryType, query):\n",
        "    hashMap = {}\n",
        "    answer = 0\n",
        "    \n",
        "    for i in range(len(queryType)):\n",
        "        if queryType[i] == \"insert\":\n",
        "            hashMap[query[i][0]] = query[i][1]\n",
        "            print(hashMap)\n",
        "            \n",
        "        elif queryType[i] == \"addToValue\":\n",
        "            keys = list(hashMap.keys())\n",
        "            for key in keys:\n",
        "              hashMap[key] += query[i][0]\n",
        "            print(hashMap)\n",
        "        elif queryType[i] == \"addToKey\":\n",
        "            keys = list(hashMap.keys())\n",
        "            values = list(hashMap.values())\n",
        "            for j in range(len(keys)):\n",
        "                hashMap[keys[j] + query[i][0]] = values[j]\n",
        "            del hashMap[keys[0]]\n",
        "            print(hashMap)\n",
        "        elif queryType[i] == \"get\":\n",
        "            answer += hashMap[query[i][0]]\n",
        "            print(answer)\n",
        "    return answer\n",
        "\n",
        "\n",
        "s=solution(queryType = [\"insert\", \"addToValue\", \"get\", \"insert\", \"addToKey\", \"addToValue\", \"get\"],query = [[1, 2], [2], [1], [2, 3], [1], [-1], [3]])\n",
        "print(s)"
      ]
    }
  ]
}