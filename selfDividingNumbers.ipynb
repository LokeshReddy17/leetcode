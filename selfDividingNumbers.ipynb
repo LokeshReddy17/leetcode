{
  "nbformat": 4,
  "nbformat_minor": 0,
  "metadata": {
    "colab": {
      "provenance": [],
      "authorship_tag": "ABX9TyMDsaJjvDV5edk576wcDxvD",
      "include_colab_link": true
    },
    "kernelspec": {
      "name": "python3",
      "display_name": "Python 3"
    },
    "language_info": {
      "name": "python"
    }
  },
  "cells": [
    {
      "cell_type": "markdown",
      "metadata": {
        "id": "view-in-github",
        "colab_type": "text"
      },
      "source": [
        "<a href=\"https://colab.research.google.com/github/LokeshReddy17/leetcode/blob/main/selfDividingNumbers.ipynb\" target=\"_parent\"><img src=\"https://colab.research.google.com/assets/colab-badge.svg\" alt=\"Open In Colab\"/></a>"
      ]
    },
    {
      "cell_type": "code",
      "execution_count": 1,
      "metadata": {
        "colab": {
          "base_uri": "https://localhost:8080/"
        },
        "id": "_PC1YQ2JtxMD",
        "outputId": "e9944f91-bccc-435e-de8a-fcfab2254f0f"
      },
      "outputs": [
        {
          "output_type": "execute_result",
          "data": {
            "text/plain": [
              "[1, 2, 3, 4, 5, 6, 7, 8, 9, 11, 12, 15, 22]"
            ]
          },
          "metadata": {},
          "execution_count": 1
        }
      ],
      "source": [
        "from typing import List\n",
        "\n",
        "\n",
        "class Solution:\n",
        "    def selfDividingNumbers(self, left: int, right: int) -> List[int]:\n",
        "        \"\"\"\n",
        "        :type left: int\n",
        "        :type right: int\n",
        "        :rtype: List[int]\n",
        "        \"\"\"\n",
        "        def divisible(n):\n",
        "            for d in str(n):\n",
        "                if d == '0' or n % int(d) > 0:\n",
        "                    return False\n",
        "            return True\n",
        "        \n",
        "        res = []\n",
        "        for n in range(left, right + 1):\n",
        "            if divisible(n):\n",
        "                res.append(n)\n",
        "        return res\n",
        "\n",
        "s1=Solution()\n",
        "s1.selfDividingNumbers(left = 1, right = 22)"
      ]
    }
  ]
}