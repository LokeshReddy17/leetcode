{
  "nbformat": 4,
  "nbformat_minor": 0,
  "metadata": {
    "colab": {
      "provenance": [],
      "authorship_tag": "ABX9TyPn+AaBtzcAT7XEIVH1E+RX",
      "include_colab_link": true
    },
    "kernelspec": {
      "name": "python3",
      "display_name": "Python 3"
    },
    "language_info": {
      "name": "python"
    }
  },
  "cells": [
    {
      "cell_type": "markdown",
      "metadata": {
        "id": "view-in-github",
        "colab_type": "text"
      },
      "source": [
        "<a href=\"https://colab.research.google.com/github/LokeshReddy17/leetcode/blob/main/sumofconsecutiveelements.ipynb\" target=\"_parent\"><img src=\"https://colab.research.google.com/assets/colab-badge.svg\" alt=\"Open In Colab\"/></a>"
      ]
    },
    {
      "cell_type": "code",
      "execution_count": 10,
      "metadata": {
        "colab": {
          "base_uri": "https://localhost:8080/"
        },
        "id": "1FanPi1EBa1u",
        "outputId": "0a0a4863-5eff-4f5c-d547-720f5e9ded0f"
      },
      "outputs": [
        {
          "output_type": "stream",
          "name": "stdout",
          "text": [
            "18\n"
          ]
        }
      ],
      "source": [
        "from typing import List\n",
        "\n",
        "\n",
        "class Solution:\n",
        "    def maxSum(self, arr: List[int], WindowSize: int) -> int:\n",
        "      arraySize= len(arr)\n",
        "\n",
        "      if(arraySize<=WindowSize):\n",
        "        print(\"Invalid operation\")\n",
        "        return -1\n",
        "\n",
        "      window_sum=sum([arr[i] for i in range(WindowSize)])\n",
        "      max_sum=window_sum\n",
        "\n",
        "      for i in range(arraySize-WindowSize):\n",
        "        window_sum = window_sum -arr[i] + arr[i + WindowSize]\n",
        "        max_sum = max(window_sum,max_sum)\n",
        "\n",
        "      print(max_sum) \n",
        "      \n",
        "s1=Solution()\n",
        "s1.maxSum(arr = [4,5,6,7,0,1,2], WindowSize = 3)"
      ]
    }
  ]
}