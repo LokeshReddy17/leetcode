{
  "nbformat": 4,
  "nbformat_minor": 0,
  "metadata": {
    "colab": {
      "provenance": [],
      "authorship_tag": "ABX9TyNNrFfW9wlvklNp/Y8CkRFn",
      "include_colab_link": true
    },
    "kernelspec": {
      "name": "python3",
      "display_name": "Python 3"
    },
    "language_info": {
      "name": "python"
    }
  },
  "cells": [
    {
      "cell_type": "markdown",
      "metadata": {
        "id": "view-in-github",
        "colab_type": "text"
      },
      "source": [
        "<a href=\"https://colab.research.google.com/github/LokeshReddy17/leetcode/blob/main/longestSubstring1.ipynb\" target=\"_parent\"><img src=\"https://colab.research.google.com/assets/colab-badge.svg\" alt=\"Open In Colab\"/></a>"
      ]
    },
    {
      "cell_type": "code",
      "execution_count": 3,
      "metadata": {
        "colab": {
          "base_uri": "https://localhost:8080/"
        },
        "id": "63tI7YD41117",
        "outputId": "e3eecf12-8cc2-4c92-bd15-578bd72a693d"
      },
      "outputs": [
        {
          "output_type": "stream",
          "name": "stdout",
          "text": [
            "3\n"
          ]
        }
      ],
      "source": [
        "from typing import List\n",
        "\n",
        "def solution(s):\n",
        "  m = {}\n",
        "  left = 0\n",
        "  right = 0\n",
        "  result = 0\n",
        "  n=len(s)\n",
        "  while left < n and right < n :\n",
        "    el=s[right]\n",
        "    if el in m:\n",
        "      left=max(left,m[el]+1)\n",
        "    m[el]=right\n",
        "    result = max(result,right-left+1)\n",
        "\n",
        "    right+=1\n",
        "\n",
        "  return result\n",
        "\n",
        "t=solution(s=\"abcabcbb\")\n",
        "print(t)"
      ]
    }
  ]
}