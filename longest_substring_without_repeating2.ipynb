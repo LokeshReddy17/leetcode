{
  "nbformat": 4,
  "nbformat_minor": 0,
  "metadata": {
    "colab": {
      "provenance": [],
      "authorship_tag": "ABX9TyPz+Cn02GjHOffrEaQYCU7P",
      "include_colab_link": true
    },
    "kernelspec": {
      "name": "python3",
      "display_name": "Python 3"
    },
    "language_info": {
      "name": "python"
    }
  },
  "cells": [
    {
      "cell_type": "markdown",
      "metadata": {
        "id": "view-in-github",
        "colab_type": "text"
      },
      "source": [
        "<a href=\"https://colab.research.google.com/github/LokeshReddy17/leetcode/blob/main/longest_substring_without_repeating2.ipynb\" target=\"_parent\"><img src=\"https://colab.research.google.com/assets/colab-badge.svg\" alt=\"Open In Colab\"/></a>"
      ]
    },
    {
      "cell_type": "code",
      "execution_count": 6,
      "metadata": {
        "colab": {
          "base_uri": "https://localhost:8080/"
        },
        "id": "fOVvkaLhkvDq",
        "outputId": "a9016afd-b62f-4947-dd44-e45fa41c9e1f"
      },
      "outputs": [
        {
          "output_type": "stream",
          "name": "stdout",
          "text": [
            "abc\n"
          ]
        }
      ],
      "source": [
        "# \"\"\"\n",
        "# Write a function in python with best time complexity that takes in a string and returns the length of the longest substring without repeating characters. \n",
        "# For example, if the input string is \"abcabcbb\", the function should return substring \"abc\" because the longest substring without repeating characters is \"abc\".\n",
        "\n",
        "# \"\"\"\n",
        "\n",
        "def longest_substring_without_repeating_chars(s):\n",
        "    if not s:\n",
        "        return \"\"\n",
        "    \n",
        "    char_index_map = {}\n",
        "    max_length = 0\n",
        "    start = 0\n",
        "    result_start = 0\n",
        "    \n",
        "    for end in range(len(s)):\n",
        "        if s[end] in char_index_map and char_index_map[s[end]] >= start:\n",
        "            start = char_index_map[s[end]] + 1\n",
        "        \n",
        "        char_index_map[s[end]] = end\n",
        "        \n",
        "        if end - start + 1 > max_length:\n",
        "            max_length = end - start + 1\n",
        "            result_start = start\n",
        "            \n",
        "    return s[result_start:result_start+max_length]\n",
        "\n",
        "\n",
        "print(longest_substring_without_repeating_chars(\"abcabcbb\"))\n",
        "\n",
        "# '''\n",
        "# using a sliding window approach:\n",
        "\n",
        "# In this implementation, we keep track of a map of characters to their last seen index while iterating through the string. \n",
        "# We also keep track of the starting index of the current substring that we're considering and the starting index of the longest substring seen so far (result_start).\n",
        "\n",
        "# For each new character encountered, we check if it has already been seen by looking up its index in the map. \n",
        "# If it has been seen and its index is within the current substring, we update the starting index to be the next index after the last occurrence of the character.\n",
        "\n",
        "# We also update the index of the current character in the map, and update the maximum length of the substring seen so far. \n",
        "# If the new maximum length is greater than the previous maximum length, we update the starting index of the longest substring seen so far (result_start) to be the starting index of the current substring.\n",
        "\n",
        "# At the end of the iteration, we return the longest substring without repeating characters by slicing the original string from result_start to result_start + max_length. \n",
        "# This approach has O(n) time complexity because we only iterate through the string once, and all other operations (map lookups, updating the maximum length, etc.) are constant time.\n",
        "# '''\n"
      ]
    }
  ]
}