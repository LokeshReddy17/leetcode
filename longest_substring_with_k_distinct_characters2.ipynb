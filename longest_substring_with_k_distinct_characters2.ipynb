{
  "nbformat": 4,
  "nbformat_minor": 0,
  "metadata": {
    "colab": {
      "provenance": [],
      "authorship_tag": "ABX9TyMfa1TwGDvbtXxzvqyQgl3b",
      "include_colab_link": true
    },
    "kernelspec": {
      "name": "python3",
      "display_name": "Python 3"
    },
    "language_info": {
      "name": "python"
    }
  },
  "cells": [
    {
      "cell_type": "markdown",
      "metadata": {
        "id": "view-in-github",
        "colab_type": "text"
      },
      "source": [
        "<a href=\"https://colab.research.google.com/github/LokeshReddy17/leetcode/blob/main/longest_substring_with_k_distinct_characters2.ipynb\" target=\"_parent\"><img src=\"https://colab.research.google.com/assets/colab-badge.svg\" alt=\"Open In Colab\"/></a>"
      ]
    },
    {
      "cell_type": "code",
      "execution_count": 19,
      "metadata": {
        "colab": {
          "base_uri": "https://localhost:8080/"
        },
        "id": "fOVvkaLhkvDq",
        "outputId": "06494460-e2bc-49d3-8558-65fe952096fd"
      },
      "outputs": [
        {
          "output_type": "stream",
          "name": "stdout",
          "text": [
            "ece\n"
          ]
        }
      ],
      "source": [
        "# Write a function in python with  time complexity less than O(N) that takes in a string and returns the longest substring that contains at most k distinct characters. \n",
        "# For example, if the input string is \"eceba\" and k is 2, the function should return the longest substring with at most 2 distinct characters is \"ece\".\n",
        "\n",
        "\n",
        "\n",
        "from typing import List\n",
        "\n",
        "def longest_substring_with_k_distinct_characters(s: str, k: int) -> str:\n",
        "    # Initialize a dictionary to keep track of the count of each character in the current substring\n",
        "    char_count = {}\n",
        "    # Initialize two pointers to mark the start and end of the current substring\n",
        "    start = 0\n",
        "    end = 0\n",
        "    # Initialize variables to keep track of the length and indices of the longest substring found so far\n",
        "    max_len = 0\n",
        "    max_start = 0\n",
        "    max_end = 0\n",
        "\n",
        "    # Loop through the string while the end pointer is within the string\n",
        "    while end < len(s):\n",
        "        # If the current character is not in the dictionary, add it with a count of 1\n",
        "        if s[end] not in char_count:\n",
        "            char_count[s[end]] = 1\n",
        "        # If the current character is already in the dictionary, increment its count\n",
        "        else:\n",
        "            char_count[s[end]] += 1\n",
        "\n",
        "        # If the number of distinct characters in the current substring is greater than k,\n",
        "        # move the start pointer forward and decrement the count of the character at the start pointer\n",
        "        while len(char_count) > k:\n",
        "            char_count[s[start]] -= 1\n",
        "            if char_count[s[start]] == 0:\n",
        "                del char_count[s[start]]\n",
        "            start += 1\n",
        "\n",
        "        # Update the max_len, max_start, and max_end variables if the length of the current substring is greater\n",
        "        if end - start + 1 > max_len:\n",
        "            max_len = end - start + 1\n",
        "            max_start = start\n",
        "            max_end = end\n",
        "\n",
        "        # Move the end pointer forward to continue building the current substring\n",
        "        end += 1\n",
        "\n",
        "    # Return the longest substring found\n",
        "    return s[max_start:max_end+1]\n",
        "\n",
        "\n",
        "\n",
        "print(longest_substring_with_k_distinct_characters(\"eceba\",2))"
      ]
    }
  ]
}