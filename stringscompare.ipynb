{
  "nbformat": 4,
  "nbformat_minor": 0,
  "metadata": {
    "colab": {
      "provenance": [],
      "authorship_tag": "ABX9TyNeb6QnrxuCm7i+l/nz8Sao",
      "include_colab_link": true
    },
    "kernelspec": {
      "name": "python3",
      "display_name": "Python 3"
    },
    "language_info": {
      "name": "python"
    }
  },
  "cells": [
    {
      "cell_type": "markdown",
      "metadata": {
        "id": "view-in-github",
        "colab_type": "text"
      },
      "source": [
        "<a href=\"https://colab.research.google.com/github/LokeshReddy17/leetcode/blob/main/stringscompare.ipynb\" target=\"_parent\"><img src=\"https://colab.research.google.com/assets/colab-badge.svg\" alt=\"Open In Colab\"/></a>"
      ]
    },
    {
      "cell_type": "code",
      "execution_count": 2,
      "metadata": {
        "colab": {
          "base_uri": "https://localhost:8080/"
        },
        "id": "e_SPmgnrbcS1",
        "outputId": "4cc2a1fd-5b5c-49d5-f9d7-da903acf8875"
      },
      "outputs": [
        {
          "output_type": "stream",
          "name": "stdout",
          "text": [
            "3\n"
          ]
        }
      ],
      "source": [
        "\"\"\" Given two strings s and t, both consisting of lowercase English letters and digits, your task is to calculate how many ways exactly one digit could be removed from one of the strings so that s is lexicographically smaller than t after the removal. Note that we are removing only a single instance of a single digit, rather than all instances (eg: removing 1 from the string a11b1c could result in a1b1c or a11bc, but not abc).\n",
        "\n",
        "Also note that digits are considered lexicographically smaller than letters.\n",
        "\n",
        "Example\n",
        "\n",
        "For s = \"ab12c\" and t = \"1zz456\", the output should be solution(s, t) = 1.\n",
        "\n",
        "Here are all the possible removals:\n",
        "\n",
        "We can remove the first digit from s, obtaining \"ab2c\". \"ab2c\" > \"1zz456\", so we don't count this removal\n",
        "We can remove the second digit from s, obtaining \"ab1c\". \"ab1c\" > \"1zz456\", so we don't count this removal\n",
        "We can remove the first digit from t, obtaining \"zz456\". \"ab12c\" < \"zz456\", so we count this removal\n",
        "We can remove the second digit from t, obtaining \"1zz56\". \"ab12c\" > \"1zz56\", so we don't count this removal\n",
        "We can remove the third digit from t, obtaining \"1zz46\". \"ab12c\" > \"1zz46\", so we don't count this removal\n",
        "We can remove the fourth digit from t, obtaining \"1zz45\". \"ab12c\" > \"1zz45\", so we don't count this removal\n",
        "The only valid case where s < t after removing a digit is \"ab12c\" < \"zz456\". Therefore, the answer is 1.\n",
        "\n",
        "For s = \"ab12c\" and t = \"ab24z\", the output should be solution(s, t) = 3.\n",
        "\n",
        "There are 4 possible ways of removing the digit:\n",
        "\n",
        "\"ab1c\" < \"ab24z\"\n",
        "\"ab2c\" > \"ab24z\"\n",
        "\"ab12c\" < \"ab4z\"\n",
        "\"ab12c\" < \"ab2z\"\n",
        "Three of these cases match the requirement that s < t, so the answer is 3.\n",
        "\n",
        "Input/Output\n",
        "\n",
        "[execution time limit] 4 seconds (py3)\n",
        "\n",
        "[input] string s\n",
        "\n",
        "A string consisting of lowercase English letters and digits 0..9.\n",
        "\n",
        "Guaranteed constraints:\n",
        "1 ≤ s.length ≤ 103.\n",
        "\n",
        "[input] string t\n",
        "\n",
        "A string consisting of lowercase English letters and digits 0..9.\n",
        "\n",
        "Guaranteed constraints:\n",
        "1 ≤ t.length ≤ 103.\n",
        "\n",
        "[output] integer\n",
        "\n",
        "The number of ways to remove exactly one digit from one of the strings so that s is lexicographically smaller than t after the removal.\"\"\"\n",
        "\n",
        "\n",
        "\n",
        "\n",
        "from typing import List\n",
        "\n",
        "def solution(s, t):\n",
        "    count = 0\n",
        "    for i in range(len(s)):\n",
        "        if s[i].isdigit():\n",
        "            temp_s = s[:i] + s[i+1:]\n",
        "            if temp_s < t:\n",
        "                count += 1\n",
        "    for j in range(len(t)):\n",
        "        if t[j].isdigit():\n",
        "            temp_t = t[:j] + t[j+1:]\n",
        "            if s < temp_t:\n",
        "                count += 1\n",
        "    return count\n",
        "\n",
        "\n",
        "\n",
        "s=solution(s = \"ab12c\",t = \"ab24z\")\n",
        "print(s)"
      ]
    }
  ]
}