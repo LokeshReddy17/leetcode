{
  "nbformat": 4,
  "nbformat_minor": 0,
  "metadata": {
    "colab": {
      "provenance": [],
      "authorship_tag": "ABX9TyPW4qapscFkTj1jWE1+HoIJ",
      "include_colab_link": true
    },
    "kernelspec": {
      "name": "python3",
      "display_name": "Python 3"
    },
    "language_info": {
      "name": "python"
    }
  },
  "cells": [
    {
      "cell_type": "markdown",
      "metadata": {
        "id": "view-in-github",
        "colab_type": "text"
      },
      "source": [
        "<a href=\"https://colab.research.google.com/github/LokeshReddy17/leetcode/blob/main/KuniqueChar.ipynb\" target=\"_parent\"><img src=\"https://colab.research.google.com/assets/colab-badge.svg\" alt=\"Open In Colab\"/></a>"
      ]
    },
    {
      "cell_type": "code",
      "execution_count": 36,
      "metadata": {
        "colab": {
          "base_uri": "https://localhost:8080/"
        },
        "id": "z01BbVUS949m",
        "outputId": "7252c3f7-2af7-4ac1-c2aa-d707e9452321"
      },
      "outputs": [
        {
          "output_type": "stream",
          "name": "stdout",
          "text": [
            "aabba\n"
          ]
        }
      ],
      "source": [
        "from typing import List\n",
        "\n",
        "def KUniqueCharacters(string):\n",
        "\n",
        "    k = int(string[0])\n",
        "    temp_word = word = string[1:k+1]\n",
        "    word_end = k\n",
        "\n",
        "    while word_end < len(string) - 1:\n",
        "\n",
        "        if len(set(temp_word)) <= k:\n",
        "            if len(temp_word) > len(word):\n",
        "                word = temp_word\n",
        "            word_end += 1\n",
        "            temp_word = temp_word + string[word_end]\n",
        "        else:\n",
        "            temp_word = temp_word[1:len(temp_word)]\n",
        "            \n",
        "    if len(temp_word) > len(word):\n",
        "        word = temp_word\n",
        "    return word\n",
        "\n",
        "\n",
        "s1=KUniqueCharacters(\"2aabbacbaa\")\n",
        "print(s1)\n",
        "\n"
      ]
    }
  ]
}