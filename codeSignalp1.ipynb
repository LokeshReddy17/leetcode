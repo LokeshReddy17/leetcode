{
  "nbformat": 4,
  "nbformat_minor": 0,
  "metadata": {
    "colab": {
      "provenance": [],
      "authorship_tag": "ABX9TyOGnMayYNheRLjsGER2PULp",
      "include_colab_link": true
    },
    "kernelspec": {
      "name": "python3",
      "display_name": "Python 3"
    },
    "language_info": {
      "name": "python"
    }
  },
  "cells": [
    {
      "cell_type": "markdown",
      "metadata": {
        "id": "view-in-github",
        "colab_type": "text"
      },
      "source": [
        "<a href=\"https://colab.research.google.com/github/LokeshReddy17/leetcode/blob/main/codeSignalp1.ipynb\" target=\"_parent\"><img src=\"https://colab.research.google.com/assets/colab-badge.svg\" alt=\"Open In Colab\"/></a>"
      ]
    },
    {
      "cell_type": "code",
      "execution_count": 69,
      "metadata": {
        "colab": {
          "base_uri": "https://localhost:8080/"
        },
        "id": "3uJ0pqgu0owW",
        "outputId": "3be53a31-8bb4-44ef-b1b8-0cfaa6e61d0e"
      },
      "outputs": [
        {
          "output_type": "stream",
          "name": "stdout",
          "text": [
            "True\n"
          ]
        }
      ],
      "source": [
        "from typing import List\n",
        "\n",
        "def solution(a):\n",
        "    \n",
        "    b = [ ]\n",
        "    i = 0    \n",
        "    j = len(a)-1\n",
        "\n",
        "    while (i <= j):\n",
        "        if(len(a) == 1):\n",
        "            b=a[:]\n",
        "            break\n",
        "        else :            \n",
        "            b.append(a[i])\n",
        "            i = i + 1\n",
        "            b.append(a[j])\n",
        "            j = j - 1        \n",
        "    \n",
        "    c=a[:]\n",
        "    c.sort()\n",
        "\n",
        "    res=[b[i] for i in  range(len(b)) if i == b.index(b[i])]\n",
        "    return res==c\n",
        "\n",
        "\n",
        "s=solution(a=[-52, 2, 31, 56, 47, 29, -35])\n",
        "print(s)"
      ]
    }
  ]
}