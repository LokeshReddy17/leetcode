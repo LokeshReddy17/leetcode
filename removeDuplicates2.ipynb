{
  "nbformat": 4,
  "nbformat_minor": 0,
  "metadata": {
    "colab": {
      "provenance": [],
      "authorship_tag": "ABX9TyPvjWuHiyI+FQUY2Z5v/hm2",
      "include_colab_link": true
    },
    "kernelspec": {
      "name": "python3",
      "display_name": "Python 3"
    },
    "language_info": {
      "name": "python"
    }
  },
  "cells": [
    {
      "cell_type": "markdown",
      "metadata": {
        "id": "view-in-github",
        "colab_type": "text"
      },
      "source": [
        "<a href=\"https://colab.research.google.com/github/LokeshReddy17/leetcode/blob/main/removeDuplicates2.ipynb\" target=\"_parent\"><img src=\"https://colab.research.google.com/assets/colab-badge.svg\" alt=\"Open In Colab\"/></a>"
      ]
    },
    {
      "cell_type": "code",
      "execution_count": 14,
      "metadata": {
        "colab": {
          "base_uri": "https://localhost:8080/"
        },
        "id": "9oF10YpFxl4A",
        "outputId": "fc1ef54e-cf88-43bd-f086-edb34e61d737"
      },
      "outputs": [
        {
          "output_type": "execute_result",
          "data": {
            "text/plain": [
              "9"
            ]
          },
          "metadata": {},
          "execution_count": 14
        }
      ],
      "source": [
        "from typing import List\n",
        "\n",
        "class Solution:\n",
        "    def removeDuplicates(self, nums: List[int]) -> int:\n",
        "      d = dict()\n",
        "      l = list()\n",
        "\n",
        "      for i in nums:\n",
        "        if i in d:\n",
        "          if d[i] >= 2:\n",
        "            l.append(i)\n",
        "\n",
        "          else:\n",
        "              d[i] += 1\n",
        "\n",
        "        else:\n",
        "            d[i] = 1\n",
        "\n",
        "      for i in l:\n",
        "        nums.remove(i)\n",
        "\t\n",
        "      return len(nums)\n",
        "\n",
        "\n",
        "s1=Solution()\n",
        "s1.removeDuplicates([0,0,1,1,1,2,2,2,3,3,4])"
      ]
    }
  ]
}