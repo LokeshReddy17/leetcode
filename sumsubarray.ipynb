{
  "nbformat": 4,
  "nbformat_minor": 0,
  "metadata": {
    "colab": {
      "provenance": [],
      "authorship_tag": "ABX9TyOfmVWoKonCOdnFWn7nqWXo",
      "include_colab_link": true
    },
    "kernelspec": {
      "name": "python3",
      "display_name": "Python 3"
    },
    "language_info": {
      "name": "python"
    }
  },
  "cells": [
    {
      "cell_type": "markdown",
      "metadata": {
        "id": "view-in-github",
        "colab_type": "text"
      },
      "source": [
        "<a href=\"https://colab.research.google.com/github/LokeshReddy17/leetcode/blob/main/sumsubarray.ipynb\" target=\"_parent\"><img src=\"https://colab.research.google.com/assets/colab-badge.svg\" alt=\"Open In Colab\"/></a>"
      ]
    },
    {
      "cell_type": "code",
      "execution_count": 6,
      "metadata": {
        "colab": {
          "base_uri": "https://localhost:8080/"
        },
        "id": "Vy492jQvqqGP",
        "outputId": "ca697c69-9e7d-484d-c1ce-7e7c209e2578"
      },
      "outputs": [
        {
          "output_type": "stream",
          "name": "stdout",
          "text": [
            "3\n"
          ]
        }
      ],
      "source": [
        "\"\"\" Given an array of integers a, your task is to find how many of its contiguous subarrays of length m contain a pair of integers with a sum equal to k.\n",
        "\n",
        "More formally, given the array a, your task is to count the number of indices 0 ≤ i ≤ a.length - m such that a subarray [a[i], a[i + 1], ..., a[i + m - 1]] contains at least one pair (a[s], a[t]), where:\n",
        "\n",
        "s ≠ t\n",
        "a[s] + a[t] = k\n",
        "Example\n",
        "\n",
        "For a = [2, 4, 7, 5, 3, 5, 8, 5, 1, 7], m = 4, and k = 10, the output should be solution(a, m, k) = 5.\n",
        "\n",
        "Let's consider all subarrays of length m = 4 and see which fit the description conditions:\n",
        "\n",
        "Subarray a[0..3] = [2, 4, 7, 5] doesn't contain any pair of integers with a sum of k = 10. Note that although the pair (a[3], a[3]) has the sum 5 + 5 = 10, it doesn't fit the requirement s ≠ t.\n",
        "Subarray a[1..4] = [4, 7, 5, 3] contains the pair (a[2], a[4]), where a[2] + a[4] = 7 + 3 = 10.\n",
        "Subarray a[2..5] = [7, 5, 3, 5] contains two pairs (a[2], a[4]) and (a[3], a[5]), both with a sum of k = 10.\n",
        "Subarray a[3..6] = [5, 3, 5, 8] contains the pair (a[3], a[5]), where a[3] + a[5] = 5 + 5 = 10.\n",
        "Subarray a[4..7] = [3, 5, 8, 5] contains the pair (a[5], a[7]), where a[5] + a[7] = 5 + 5 = 10.\n",
        "Subarray a[5..8] = [5, 8, 5, 1] contains the pair (a[5], a[7]), where a[5] + a[7] = 5 + 5 = 10.\n",
        "Subarray a[6..9] = [8, 5, 1, 7] doesn't contain any pair with a sum of k = 10.\n",
        "So the answer is 5, because there are 5 contiguous subarrays that contain a pair with a sum of k = 10.\n",
        "\n",
        "For a = [15, 8, 8, 2, 6, 4, 1, 7], m = 2, and k = 8, the output should be solution(a, m, k) = 2.\n",
        "\n",
        "There are 2 subarrays satisfying the description conditions:\n",
        "\n",
        "a[3..4] = [2, 6], where 2 + 6 = 8\n",
        "a[6..7] = [1, 7], where 1 + 7 = 8\n",
        "Input/Output\n",
        "\n",
        "[execution time limit] 4 seconds (py3)\n",
        "\n",
        "[input] array.integer a\n",
        "\n",
        "The given array of integers.\n",
        "\n",
        "Guaranteed constraints:\n",
        "2 ≤ a.length ≤ 105,\n",
        "0 ≤ a[i] ≤ 109.\n",
        "\n",
        "[input] integer m\n",
        "\n",
        "An integer representing the length of the contiguous subarrays being considered.\n",
        "\n",
        "Guaranteed constraints:\n",
        "2 ≤ m ≤ a.length.\n",
        "\n",
        "[input] integer k\n",
        "\n",
        "An non-negative integer value representing the sum of the pairs we're trying to find within each subarray.\n",
        "\n",
        "Guaranteed constraints:\n",
        "0 ≤ k ≤ 109.\n",
        "\n",
        "[output] integer\n",
        "\n",
        "An integer representing the number of subarrays that contain a pair of integers with a sum of k. \"\"\"\n",
        "\n",
        "\n",
        "\n",
        "\n",
        "\n",
        "\n",
        "\n",
        "\n",
        "\n",
        "\n",
        "\n",
        "\n",
        "\n",
        "\n",
        "\n",
        "\n",
        "\n",
        "\n",
        "\n",
        "\n",
        "\n",
        "\n",
        "\n",
        "\n",
        "\n",
        "\n",
        "\n",
        "\n",
        "from typing import List\n",
        "\n",
        "def solution(a, m, k):\n",
        "    count = 0\n",
        "    for i in range(len(a) - m + 1):\n",
        "        for j in range(i + 1, i + m):\n",
        "            if a[i] + a[j] == k and i != j:\n",
        "                count += 1\n",
        "                break\n",
        "    return count\n",
        "\n",
        "s=solution(a = [2, 4, 7, 5, 3, 5, 8, 5, 1, 7], m = 4,k = 10)\n",
        "print(s)"
      ]
    }
  ]
}