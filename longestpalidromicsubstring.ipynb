{
  "nbformat": 4,
  "nbformat_minor": 0,
  "metadata": {
    "colab": {
      "provenance": [],
      "authorship_tag": "ABX9TyPcPR328J1s5IHs40S7z96g",
      "include_colab_link": true
    },
    "kernelspec": {
      "name": "python3",
      "display_name": "Python 3"
    },
    "language_info": {
      "name": "python"
    }
  },
  "cells": [
    {
      "cell_type": "markdown",
      "metadata": {
        "id": "view-in-github",
        "colab_type": "text"
      },
      "source": [
        "<a href=\"https://colab.research.google.com/github/LokeshReddy17/leetcode/blob/main/longestpalidromicsubstring.ipynb\" target=\"_parent\"><img src=\"https://colab.research.google.com/assets/colab-badge.svg\" alt=\"Open In Colab\"/></a>"
      ]
    },
    {
      "cell_type": "code",
      "execution_count": null,
      "metadata": {
        "id": "FRy1BrhaXOlx"
      },
      "outputs": [],
      "source": [
        "\"\"\" \n",
        "Given a string s, return the longest palindromic substring in s.\n",
        "\n",
        "Example:\n",
        "\n",
        "Input: \"babad\"\n",
        "\n",
        "Output: \"bab\"\n",
        "\n",
        "Note: \"aba\" is also a valid answer.\n",
        "\"\"\"\n",
        "\n",
        "\n",
        "def longestPalindrome(s):\n",
        "    if len(s) < 2:\n",
        "        return s\n",
        "    start = 0\n",
        "    end = 0\n",
        "    for i in range(len(s)):\n",
        "        len1 = expandAroundCenter(s, i, i)\n",
        "        len2 = expandAroundCenter(s, i, i+1)\n",
        "        length = max(len1, len2)\n",
        "        if length > end - start:\n",
        "            start = i - (length - 1) // 2\n",
        "            end = i + length // 2\n",
        "    return s[start:end+1]\n",
        "\n",
        "def expandAroundCenter(s, left, right):\n",
        "    l = left\n",
        "    r = right\n",
        "    while l >= 0 and r < len(s) and s[l] == s[r]:\n",
        "        l -= 1\n",
        "        r += 1\n",
        "    return r - l - 1\n",
        "\n",
        "\n",
        "\"\"\"\n",
        "The time complexity of the solution I provided earlier is O(N^2), where N is the length of the input string.\n",
        " However, we can optimize the solution to have a time complexity of O(N) by using the Manacher's algorithm.\"\"\"\n",
        "\n",
        " def longestPalindrome(s: String): String = {\n",
        "  if (s.length < 2) return s\n",
        "  val newString = preprocessString(s)\n",
        "  val len = newString.length\n",
        "  val p = Array.ofDim[Int](len)\n",
        "  var center = 0\n",
        "  var right = 0\n",
        "  var maxLen = 0\n",
        "  var maxCenter = 0\n",
        "  for (i <- 1 until len - 1) {\n",
        "    if (right > i) {\n",
        "      p(i) = math.min(right - i, p(2 * center - i))\n",
        "    }\n",
        "    while (newString(i + p(i) + 1) == newString(i - p(i) - 1)) {\n",
        "      p(i) += 1\n",
        "    }\n",
        "    if (i + p(i) > right) {\n",
        "      center = i\n",
        "      right = i + p(i)\n",
        "    }\n",
        "    if (p(i) > maxLen) {\n",
        "      maxLen = p(i)\n",
        "      maxCenter = i\n",
        "    }\n",
        "  }\n",
        "  s.substring((maxCenter - maxLen - 1) / 2, (maxCenter + maxLen - 1) / 2)\n",
        "}\n",
        "\n",
        "def preprocessString(s: String): String = {\n",
        "  val n = s.length\n",
        "  if (n == 0) return \"^$\"\n",
        "  var res = \"^\"\n",
        "  for (i <- 0 until n) {\n",
        "    res += \"#\" + s(i)\n",
        "  }\n",
        "  res += \"#$\"\n",
        "  res\n",
        "}\n",
        "\n",
        "\n"
      ]
    }
  ]
}