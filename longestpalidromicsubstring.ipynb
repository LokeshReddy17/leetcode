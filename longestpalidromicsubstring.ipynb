{
  "nbformat": 4,
  "nbformat_minor": 0,
  "metadata": {
    "colab": {
      "provenance": [],
      "authorship_tag": "ABX9TyMXnWojVwaGLusBr8HXYYNE",
      "include_colab_link": true
    },
    "kernelspec": {
      "name": "python3",
      "display_name": "Python 3"
    },
    "language_info": {
      "name": "python"
    }
  },
  "cells": [
    {
      "cell_type": "markdown",
      "metadata": {
        "id": "view-in-github",
        "colab_type": "text"
      },
      "source": [
        "<a href=\"https://colab.research.google.com/github/LokeshReddy17/leetcode/blob/main/longestpalidromicsubstring.ipynb\" target=\"_parent\"><img src=\"https://colab.research.google.com/assets/colab-badge.svg\" alt=\"Open In Colab\"/></a>"
      ]
    },
    {
      "cell_type": "code",
      "execution_count": null,
      "metadata": {
        "id": "FRy1BrhaXOlx"
      },
      "outputs": [],
      "source": [
        "\"\"\" \n",
        "Given a string s, return the longest palindromic substring in s.\n",
        "\n",
        "Example:\n",
        "\n",
        "Input: \"babad\"\n",
        "\n",
        "Output: \"bab\"\n",
        "\n",
        "Note: \"aba\" is also a valid answer.\n",
        "\"\"\"\n",
        "\n",
        "\n",
        "def longestPalindrome(s):\n",
        "    if len(s) < 2:\n",
        "        return s\n",
        "    start = 0\n",
        "    end = 0\n",
        "    for i in range(len(s)):\n",
        "        len1 = expandAroundCenter(s, i, i)\n",
        "        len2 = expandAroundCenter(s, i, i+1)\n",
        "        length = max(len1, len2)\n",
        "        if length > end - start:\n",
        "            start = i - (length - 1) // 2\n",
        "            end = i + length // 2\n",
        "    return s[start:end+1]\n",
        "\n",
        "def expandAroundCenter(s, left, right):\n",
        "    l = left\n",
        "    r = right\n",
        "    while l >= 0 and r < len(s) and s[l] == s[r]:\n",
        "        l -= 1\n",
        "        r += 1\n",
        "    return r - l - 1\n",
        "\n",
        "\n",
        "\"\"\"\n",
        "The time complexity of the solution I provided earlier is O(N^2), where N is the length of the input string.\n",
        " However, we can optimize the solution to have a time complexity of O(N) by using the Manacher's algorithm.\"\"\"\n",
        "\n",
        " def longestPalindrome(s):\n",
        "    if len(s) < 2:\n",
        "        return s\n",
        "    new_s = preprocess_string(s)\n",
        "    n = len(new_s)\n",
        "    p = [0] * n\n",
        "    center = right = max_len = max_center = 0\n",
        "    for i in range(1, n-1):\n",
        "        if i < right:\n",
        "            p[i] = min(right-i, p[2*center-i])\n",
        "        while new_s[i+p[i]+1] == new_s[i-p[i]-1]:\n",
        "            p[i] += 1\n",
        "        if i + p[i] > right:\n",
        "            center, right = i, i + p[i]\n",
        "        if p[i] > max_len:\n",
        "            max_len = p[i]\n",
        "            max_center = i\n",
        "    start = (max_center - max_len - 1) // 2\n",
        "    end = start + max_len\n",
        "    return s[start:end]\n",
        "\n",
        "def preprocess_string(s):\n",
        "    n = len(s)\n",
        "    if n == 0:\n",
        "        return \"^$\"\n",
        "    res = \"^\"\n",
        "    for i in range(n):\n",
        "        res += \"#\" + s[i]\n",
        "    res += \"#$\"\n",
        "    return res\n"
      ]
    }
  ]
}