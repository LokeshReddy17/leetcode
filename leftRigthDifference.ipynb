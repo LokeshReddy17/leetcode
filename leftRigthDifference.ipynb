{
  "nbformat": 4,
  "nbformat_minor": 0,
  "metadata": {
    "colab": {
      "provenance": [],
      "authorship_tag": "ABX9TyNTEQRQrsKBYLdqRt971pbH",
      "include_colab_link": true
    },
    "kernelspec": {
      "name": "python3",
      "display_name": "Python 3"
    },
    "language_info": {
      "name": "python"
    }
  },
  "cells": [
    {
      "cell_type": "markdown",
      "metadata": {
        "id": "view-in-github",
        "colab_type": "text"
      },
      "source": [
        "<a href=\"https://colab.research.google.com/github/LokeshReddy17/leetcode/blob/main/leftRigthDifference.ipynb\" target=\"_parent\"><img src=\"https://colab.research.google.com/assets/colab-badge.svg\" alt=\"Open In Colab\"/></a>"
      ]
    },
    {
      "cell_type": "code",
      "execution_count": 1,
      "metadata": {
        "colab": {
          "base_uri": "https://localhost:8080/"
        },
        "id": "Faz1Om_JS67n",
        "outputId": "1c9e5a72-f341-44cb-d623-b79da91f848d"
      },
      "outputs": [
        {
          "output_type": "execute_result",
          "data": {
            "text/plain": [
              "[15, 1, 11, 22]"
            ]
          },
          "metadata": {},
          "execution_count": 1
        }
      ],
      "source": [
        "from typing import List\n",
        "\n",
        "\n",
        "class Solution:\n",
        "    def leftRigthDifference(self, nums: List[int]) -> List[int]:\n",
        "        answer = []\n",
        "        for i in range(len(nums)):\n",
        "            answer.append(abs(sum(nums[:i]) - sum(nums[i+1:])))\n",
        "        return answer\n",
        "\n",
        "\n",
        "\n",
        "s1=Solution()\n",
        "s1.leftRigthDifference([10,4,8,3])\n"
      ]
    }
  ]
}