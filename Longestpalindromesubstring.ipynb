{
  "nbformat": 4,
  "nbformat_minor": 0,
  "metadata": {
    "colab": {
      "provenance": [],
      "authorship_tag": "ABX9TyN24hEu+4L2dXX98HlmlBl3",
      "include_colab_link": true
    },
    "kernelspec": {
      "name": "python3",
      "display_name": "Python 3"
    },
    "language_info": {
      "name": "python"
    }
  },
  "cells": [
    {
      "cell_type": "markdown",
      "metadata": {
        "id": "view-in-github",
        "colab_type": "text"
      },
      "source": [
        "<a href=\"https://colab.research.google.com/github/LokeshReddy17/leetcode/blob/main/Longestpalindromesubstring.ipynb\" target=\"_parent\"><img src=\"https://colab.research.google.com/assets/colab-badge.svg\" alt=\"Open In Colab\"/></a>"
      ]
    },
    {
      "cell_type": "code",
      "execution_count": 3,
      "metadata": {
        "colab": {
          "base_uri": "https://localhost:8080/",
          "height": 35
        },
        "id": "kGQdgUVGLNFD",
        "outputId": "bbbe4692-6130-444d-fac9-8131b38c863c"
      },
      "outputs": [
        {
          "output_type": "execute_result",
          "data": {
            "text/plain": [
              "'bab'"
            ],
            "application/vnd.google.colaboratory.intrinsic+json": {
              "type": "string"
            }
          },
          "metadata": {},
          "execution_count": 3
        }
      ],
      "source": [
        "from typing import List\n",
        "\n",
        "class Solution:\n",
        "        def longestPalindrome(self, s: str) -> str:\n",
        "                #create an empty string res \n",
        "                res = \"\"\n",
        "                #store it's length as 0 in resLen\n",
        "                resLen = 0 \n",
        "                #iterate using indexes in the string \n",
        "                for i in range(len(s)):\n",
        "                        #odd case\n",
        "                        #create the two pointers pointing at current position\n",
        "                        l,r = i,i\n",
        "                        #this while loop works utill it satisfies the following conditions\n",
        "                        #l pointer should be greater than or equal to 0 \n",
        "                        #r pointer should be less than length of the string\n",
        "                        #value at l pointer and r pointer should be same\n",
        "                        while l >= 0 and r < len(s) and s[l] == s[r]:\n",
        "                                #if the palindrome substring's length is greater than resLen\n",
        "                                if (r-l+1) > resLen:\n",
        "                                        #change the res sting to the  palindrome substring \n",
        "                                        res = s[l:r+1]\n",
        "                                        #and change the length of the res string to the palindrome substring length\n",
        "                                        resLen = (r-l+1)\n",
        "                                #decrease the l pointer value by 1\n",
        "                                #to see the left side elements\n",
        "                                l -=1\n",
        "                                #increase the r pointer value by 1\n",
        "                                #to see the right side elements\n",
        "                                r +=1\n",
        "                        #even case \n",
        "                        #create a two pointers l is at curr position and  r is at next position\n",
        "                        l,r = i,i+1\n",
        "                        #this while loop works utill it satisfies the following conditions\n",
        "                        #l pointer should be greater than or equal to 0 \n",
        "                        #r pointer should be less than length of the string\n",
        "                        #value at l pointer and r pointer should be same\n",
        "                        while l >= 0 and r < len(s) and s[l] == s[r]:\n",
        "                                #if the palindrome substring's length is greater than resLen\n",
        "                                if (r-l+1) > resLen:\n",
        "                                        #change the res sting to the  palindrome substring \n",
        "                                        res = s[l:r+1]\n",
        "                                        #and change the length of the res string to the palindrome substring length\n",
        "                                        resLen = (r-l+1)\n",
        "                                #decrease the l pointer value by 1\n",
        "                                #to see the left side elements\n",
        "                                l -=1\n",
        "                                #increase the r pointer value by 1\n",
        "                                #to see the right side elements\n",
        "                                r +=1\n",
        "                #return the palindromic substring stored in the res string\n",
        "                return res\n",
        "\n",
        "\n",
        "\n",
        "\n",
        "S=Solution()\n",
        "S.longestPalindrome(s=\"babad\")"
      ]
    }
  ]
}