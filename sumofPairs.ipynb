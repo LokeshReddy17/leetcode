{
  "nbformat": 4,
  "nbformat_minor": 0,
  "metadata": {
    "colab": {
      "provenance": [],
      "authorship_tag": "ABX9TyPzaHKeYa93uypelo8NsKku",
      "include_colab_link": true
    },
    "kernelspec": {
      "name": "python3",
      "display_name": "Python 3"
    },
    "language_info": {
      "name": "python"
    }
  },
  "cells": [
    {
      "cell_type": "markdown",
      "metadata": {
        "id": "view-in-github",
        "colab_type": "text"
      },
      "source": [
        "<a href=\"https://colab.research.google.com/github/LokeshReddy17/leetcode/blob/main/sumofPairs.ipynb\" target=\"_parent\"><img src=\"https://colab.research.google.com/assets/colab-badge.svg\" alt=\"Open In Colab\"/></a>"
      ]
    },
    {
      "cell_type": "code",
      "execution_count": 7,
      "metadata": {
        "colab": {
          "base_uri": "https://localhost:8080/"
        },
        "id": "RZ4LCPJVi0io",
        "outputId": "473ab6ab-8220-4d2f-cb28-42103593d8fb"
      },
      "outputs": [
        {
          "output_type": "stream",
          "name": "stdout",
          "text": [
            "4\n"
          ]
        }
      ],
      "source": [
        "\"\"\"Write the python code for below problem with less time complexity without using for loop\n",
        "\n",
        "You are given an array of integers a and an integer k. Your task is to calculate the number of ways to pick two different indices i < j, such that a[i] + a[j] is divisible by k.\n",
        "\n",
        "Example\n",
        "\n",
        "For a = [1, 2, 3, 4, 5] and k = 3, the output should be solution(a, k) = 4.\n",
        "\n",
        "There are 4 pairs of numbers that sum to a multiple of k = 3:\n",
        "\n",
        "a[0] + a[1] = 1 + 2 = 3\n",
        "a[0] + a[4] = 1 + 5 = 6\n",
        "a[1] + a[3] = 2 + 4 = 6\n",
        "a[3] + a[4] = 4 + 5 = 9\n",
        "Input/Output\n",
        "\n",
        "[execution time limit] 4 seconds (py3)\n",
        "\n",
        "The number of ways to pick two different indices i < j, such that a[i] + a[j] is divisible by k.\"\"\"\n",
        "\n",
        "from typing import List,Counter\n",
        "from math import gcd\n",
        "\n",
        "\n",
        "def solution(nums, k):\n",
        "        N, output = len(nums), 0\n",
        "        divisors = []\n",
        "        counter = Counter()\n",
        "        \n",
        "        for i in range(1, k + 1):\n",
        "            if k % i == 0:\n",
        "                divisors.append(i)\n",
        "        \n",
        "        for i in range(0, N):\n",
        "            remainder = k//gcd(k, nums[i])\n",
        "            output += counter[remainder]\n",
        "            for divisor in divisors:\n",
        "                if nums[i] % divisor == 0:\n",
        "                    counter[divisor] += 1\n",
        "            \n",
        "        return output  \n",
        "\n",
        "\n",
        "s=solution(nums = [1, 2, 3, 4, 5],k = 3)\n",
        "print(s)"
      ]
    }
  ]
}