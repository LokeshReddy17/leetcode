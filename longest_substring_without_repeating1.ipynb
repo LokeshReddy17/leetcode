{
  "nbformat": 4,
  "nbformat_minor": 0,
  "metadata": {
    "colab": {
      "provenance": [],
      "authorship_tag": "ABX9TyOqTWUqqkqJBYHOeSwfPA0J",
      "include_colab_link": true
    },
    "kernelspec": {
      "name": "python3",
      "display_name": "Python 3"
    },
    "language_info": {
      "name": "python"
    }
  },
  "cells": [
    {
      "cell_type": "markdown",
      "metadata": {
        "id": "view-in-github",
        "colab_type": "text"
      },
      "source": [
        "<a href=\"https://colab.research.google.com/github/LokeshReddy17/leetcode/blob/main/longest_substring_without_repeating1.ipynb\" target=\"_parent\"><img src=\"https://colab.research.google.com/assets/colab-badge.svg\" alt=\"Open In Colab\"/></a>"
      ]
    },
    {
      "cell_type": "code",
      "execution_count": 2,
      "metadata": {
        "colab": {
          "base_uri": "https://localhost:8080/",
          "height": 261
        },
        "id": "fOVvkaLhkvDq",
        "outputId": "f5bb270c-8a93-4a16-d1e9-e6c4f549e579"
      },
      "outputs": [
        {
          "output_type": "stream",
          "name": "stdout",
          "text": [
            "{'a': 0}\n",
            "{'a': 0, 'b': 1}\n",
            "{'a': 0, 'b': 1, 'c': 2}\n",
            "{'a': 3, 'b': 1, 'c': 2}\n",
            "{'a': 3, 'b': 4, 'c': 2}\n",
            "{'a': 3, 'b': 4, 'c': 5}\n",
            "{'a': 3, 'b': 6, 'c': 5}\n",
            "{'a': 3, 'b': 7, 'c': 5}\n",
            "3\n"
          ]
        },
        {
          "output_type": "execute_result",
          "data": {
            "text/plain": [
              "\"\\nusing a sliding window approach:\\n\\nIn this implementation, we keep track of a map of characters to their last seen index while iterating through the string. \\nWe also keep track of the starting index of the current substring that we're considering.\\n\\nFor each new character encountered, we check if it has already been seen by looking up its index in the map. \\nIf it has been seen and its index is within the current substring, we update the starting index to be the next index after the last occurrence of the character.\\n\\nWe also update the index of the current character in the map, and update the maximum length of the substring seen so far. \\nAt the end of the iteration, we return the maximum length.\\n\\nThis approach has O(n) time complexity because we only iterate through the string once, and all other operations (map lookups, updating the maximum length, etc.) are constant time.\\n\""
            ],
            "application/vnd.google.colaboratory.intrinsic+json": {
              "type": "string"
            }
          },
          "metadata": {},
          "execution_count": 2
        }
      ],
      "source": [
        "\"\"\"\n",
        "Write a function in python with best time complexity that takes in a string and returns the length of the longest substring without repeating characters. \n",
        "For example, if the input string is \"abcabcbb\", the function should return 3 because the longest substring without repeating characters is \"abc\".\n",
        "\n",
        "\"\"\"\n",
        "\n",
        "def length_of_longest_substring(s):\n",
        "    if not s:\n",
        "        return 0\n",
        "        \n",
        "    char_index_map = {}\n",
        "    max_length = 0\n",
        "    start = 0\n",
        "    \n",
        "    for end in range(len(s)):\n",
        "        if s[end] in char_index_map and char_index_map[s[end]] >= start:\n",
        "            start = char_index_map[s[end]] + 1\n",
        "        char_index_map[s[end]] = end\n",
        "        print(char_index_map)\n",
        "        max_length = max(max_length, end - start + 1)\n",
        "        \n",
        "    return max_length\n",
        "\n",
        "print(length_of_longest_substring(\"abcabcbb\"))\n",
        "\n",
        "\"\"\"\n",
        "using a sliding window approach:\n",
        "\n",
        "In this implementation, we keep track of a map of characters to their last seen index while iterating through the string. \n",
        "We also keep track of the starting index of the current substring that we're considering.\n",
        "\n",
        "For each new character encountered, we check if it has already been seen by looking up its index in the map. \n",
        "If it has been seen and its index is within the current substring, we update the starting index to be the next index after the last occurrence of the character.\n",
        "\n",
        "We also update the index of the current character in the map, and update the maximum length of the substring seen so far. \n",
        "At the end of the iteration, we return the maximum length.\n",
        "\n",
        "This approach has O(n) time complexity because we only iterate through the string once, and all other operations (map lookups, updating the maximum length, etc.) are constant time.\n",
        "\"\"\"\n"
      ]
    }
  ]
}