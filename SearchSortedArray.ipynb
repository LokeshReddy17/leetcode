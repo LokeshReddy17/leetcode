{
  "nbformat": 4,
  "nbformat_minor": 0,
  "metadata": {
    "colab": {
      "provenance": [],
      "authorship_tag": "ABX9TyP9M+BWvwvnt2a0HeoUNQik",
      "include_colab_link": true
    },
    "kernelspec": {
      "name": "python3",
      "display_name": "Python 3"
    },
    "language_info": {
      "name": "python"
    }
  },
  "cells": [
    {
      "cell_type": "markdown",
      "metadata": {
        "id": "view-in-github",
        "colab_type": "text"
      },
      "source": [
        "<a href=\"https://colab.research.google.com/github/LokeshReddy17/leetcode/blob/main/SearchSortedArray.ipynb\" target=\"_parent\"><img src=\"https://colab.research.google.com/assets/colab-badge.svg\" alt=\"Open In Colab\"/></a>"
      ]
    },
    {
      "cell_type": "code",
      "execution_count": 1,
      "metadata": {
        "colab": {
          "base_uri": "https://localhost:8080/"
        },
        "id": "1ZjCU2ZpSZUa",
        "outputId": "5424b0e0-8681-4c41-86e8-66d4e9bdfb2b"
      },
      "outputs": [
        {
          "output_type": "execute_result",
          "data": {
            "text/plain": [
              "-1"
            ]
          },
          "metadata": {},
          "execution_count": 1
        }
      ],
      "source": [
        "from typing import List\n",
        "\n",
        "\n",
        "class Solution:\n",
        "    def search(self, nums: List[int], target: int) -> int:\n",
        "        low = 0; high = len(nums)-1\n",
        "\n",
        "        while(low<=high):\n",
        "            mid = (low+high)//2\n",
        "\n",
        "            if nums[mid]==target:\n",
        "                return mid\n",
        "\n",
        "            \n",
        "            if nums[low] <= nums[mid]:\n",
        "                if target > nums[mid] or target < nums[low]:\n",
        "                    low = mid + 1\n",
        "                else:\n",
        "                    high = mid - 1\n",
        "            else:\n",
        "                if target < nums[mid] or target > nums[high]:\n",
        "                    high = mid- 1\n",
        "                else:\n",
        "                    low = mid + 1\n",
        "        return -1\n",
        "\n",
        "\n",
        "\n",
        "s1=Solution()\n",
        "s1.search(nums = [4,5,6,7,0,1,2], target = 3)"
      ]
    }
  ]
}