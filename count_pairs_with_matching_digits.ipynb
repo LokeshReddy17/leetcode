{
  "nbformat": 4,
  "nbformat_minor": 0,
  "metadata": {
    "colab": {
      "provenance": [],
      "authorship_tag": "ABX9TyNsGzsgfAjk4e9f/FA1eJ1J",
      "include_colab_link": true
    },
    "kernelspec": {
      "name": "python3",
      "display_name": "Python 3"
    },
    "language_info": {
      "name": "python"
    }
  },
  "cells": [
    {
      "cell_type": "markdown",
      "metadata": {
        "id": "view-in-github",
        "colab_type": "text"
      },
      "source": [
        "<a href=\"https://colab.research.google.com/github/LokeshReddy17/leetcode/blob/main/count_pairs_with_matching_digits.ipynb\" target=\"_parent\"><img src=\"https://colab.research.google.com/assets/colab-badge.svg\" alt=\"Open In Colab\"/></a>"
      ]
    },
    {
      "cell_type": "code",
      "execution_count": 29,
      "metadata": {
        "colab": {
          "base_uri": "https://localhost:8080/"
        },
        "id": "k4oQ5DfOLDj4",
        "outputId": "b81e5198-bbea-40f6-b3d9-c0435827bb95"
      },
      "outputs": [
        {
          "output_type": "stream",
          "name": "stdout",
          "text": [
            "2\n",
            "count_loop 2\n",
            "1\n",
            "count_loop 3\n",
            "2\n",
            "count_loop 5\n",
            "Number of ways to select a pair with matching digits: 5\n"
          ]
        }
      ],
      "source": [
        "from typing import List\n",
        "\n",
        "\n",
        "def count_pairs_with_matching_digits(numbers):\n",
        "    pair_count = {}\n",
        "    count = 0\n",
        "\n",
        "    n=len(numbers)-1\n",
        "    for i in range(n,-1,-1):\n",
        "        for j in range(n,-1,-1):\n",
        "\n",
        "            first_num = numbers[i]\n",
        "            second_num = numbers[j]\n",
        "\n",
        "            if str(first_num)[-1] == str(second_num)[0]:\n",
        "                current_pair = (first_num, second_num)\n",
        "\n",
        "                # Increment the count for the current pair\n",
        "                pair_count[current_pair] = pair_count.get(current_pair, 0) + 1\n",
        "\n",
        "    # Count the number of occurrences of each pair\n",
        "    for values in pair_count.values():\n",
        "        print(values)\n",
        "        if values >= 1:\n",
        "            count = count+int(values)\n",
        "    return count\n",
        "\n",
        "# Example usage:\n",
        "numbers = [122, 21, 21, 23]\n",
        "result = count_pairs_with_matching_digits(numbers)\n",
        "print(\"Number of ways to select a pair with matching digits:\", result)\n"
      ]
    }
  ]
}