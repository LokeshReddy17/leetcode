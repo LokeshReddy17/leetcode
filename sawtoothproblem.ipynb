{
  "nbformat": 4,
  "nbformat_minor": 0,
  "metadata": {
    "colab": {
      "provenance": [],
      "authorship_tag": "ABX9TyPuDY21M1+0nZqxfamk6yx8",
      "include_colab_link": true
    },
    "kernelspec": {
      "name": "python3",
      "display_name": "Python 3"
    },
    "language_info": {
      "name": "python"
    }
  },
  "cells": [
    {
      "cell_type": "markdown",
      "metadata": {
        "id": "view-in-github",
        "colab_type": "text"
      },
      "source": [
        "<a href=\"https://colab.research.google.com/github/LokeshReddy17/leetcode/blob/main/sawtoothproblem.ipynb\" target=\"_parent\"><img src=\"https://colab.research.google.com/assets/colab-badge.svg\" alt=\"Open In Colab\"/></a>"
      ]
    },
    {
      "cell_type": "code",
      "execution_count": 1,
      "metadata": {
        "colab": {
          "base_uri": "https://localhost:8080/"
        },
        "id": "ePykiAGxtBC7",
        "outputId": "45044aa5-c01d-460f-abbf-a18805e3000e"
      },
      "outputs": [
        {
          "output_type": "stream",
          "name": "stdout",
          "text": [
            "10\n"
          ]
        }
      ],
      "source": [
        "\"\"\"\n",
        "A sawtooth sequence is a sequence of numbers that alternate between increasing and decreasing. In other words, each element is either strictly greater than its neighbouring elements or strictly less than its neighbouring elements.\n",
        "\n",
        "examples\n",
        "\n",
        "Given an array of integers arr, your task is to count the number of contiguous subarrays that represent a sawtooth sequence of at least two elements.\n",
        "\n",
        "Example\n",
        "\n",
        "For arr = [9, 8, 7, 6, 5], the output should be solution(arr) = 4.\n",
        "\n",
        "Since all the elements are arranged in decreasing order, it won't be possible to form any sawtooth subarrays of length 3 or more. There are 4 possible subarrays containing two elements, so the answer is 4.\n",
        "\n",
        "For arr = [10, 10, 10], the output should be solution(arr) = 0.\n",
        "\n",
        "Since all of the elements are equal, none of subarrays can be sawtooth, so the answer is 0.\n",
        "\n",
        "For arr = [1, 2, 1, 2, 1], the output should be solution(arr) = 10.\n",
        "\n",
        "All contiguous subarrays containing at least two elements satisfy the condition of problem. There are 10 possible contiguous subarrays containing at least two elements, so the answer is 10.\n",
        "\n",
        "Input/Output\n",
        "\n",
        "[execution time limit] 4 seconds (py3)\n",
        "\n",
        "[input] array.integer arr\n",
        "\n",
        "An array of integers.\n",
        "\n",
        "Guaranteed constraints:\n",
        "2 ≤ arr.length ≤ 105,\n",
        "-109 ≤ arr[i] ≤ 109.\n",
        "\n",
        "[output] integer64\n",
        "\n",
        "Return the number of sawtooth subarrays.\"\"\"\n",
        "\n",
        "\n",
        "def solution(arr):\n",
        "\n",
        "    if len(arr) < 2:\n",
        "        return 0\n",
        "\n",
        "    count = 0\n",
        "    streak = 0\n",
        "    prev_increasing = None\n",
        "\n",
        "    for i in range(1, len(arr)):\n",
        "        if arr[i] == arr[i-1]:\n",
        "            prev_increasing = None\n",
        "            streak = 0\n",
        "        else:\n",
        "            curr_increasing = arr[i] > arr[i-1]\n",
        "            if curr_increasing != prev_increasing:\n",
        "                # keep track of streak of flips between increasing and decreasing\n",
        "                streak += 1\n",
        "                prev_increasing = curr_increasing\n",
        "            else:\n",
        "                # when we break out of a streak, we reset the streak counter to 1\n",
        "                streak = 1\n",
        "\n",
        "            # number of sawtooth contiguous subarrays goes up by the current streak\n",
        "            count += streak\n",
        "\n",
        "    return count\n",
        "\n",
        "s=solution(arr = [1, 2, 1, 2, 1])\n",
        "print(s)\n"
      ]
    }
  ]
}