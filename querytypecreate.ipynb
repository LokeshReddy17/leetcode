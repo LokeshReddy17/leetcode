{
  "nbformat": 4,
  "nbformat_minor": 0,
  "metadata": {
    "colab": {
      "provenance": [],
      "authorship_tag": "ABX9TyOn2Solg7SkbmpxHSzPSL7y",
      "include_colab_link": true
    },
    "kernelspec": {
      "name": "python3",
      "display_name": "Python 3"
    },
    "language_info": {
      "name": "python"
    }
  },
  "cells": [
    {
      "cell_type": "markdown",
      "metadata": {
        "id": "view-in-github",
        "colab_type": "text"
      },
      "source": [
        "<a href=\"https://colab.research.google.com/github/LokeshReddy17/leetcode/blob/main/querytypecreate.ipynb\" target=\"_parent\"><img src=\"https://colab.research.google.com/assets/colab-badge.svg\" alt=\"Open In Colab\"/></a>"
      ]
    },
    {
      "cell_type": "code",
      "execution_count": 16,
      "metadata": {
        "colab": {
          "base_uri": "https://localhost:8080/"
        },
        "id": "HYOGwUbvvk2a",
        "outputId": "52506689-df0a-4397-c396-0e8eb8c56ecd"
      },
      "outputs": [
        {
          "output_type": "stream",
          "name": "stdout",
          "text": [
            "-1\n"
          ]
        }
      ],
      "source": [
        "\"\"\"\n",
        "You've created a new programming language, and now you've decided to add hashmap support to it. Actually you are quite disappointed that in common programming languages it's impossible to add a number to all hashmap keys, or all its values. So you've decided to take matters into your own hands and implement your own hashmap in your new language that has the following operations:\n",
        "\n",
        "insert x y - insert an object with key x and value y.\n",
        "get x - return the value of an object with key x.\n",
        "addToKey x - add x to all keys in map.\n",
        "addToValue y - add y to all values in map.\n",
        "To test out your new hashmap, you have a list of queries in the form of two arrays: queryTypes contains the names of the methods to be called (eg: insert, get, etc), and queries contains the arguments for those methods (the x and y values).\n",
        "\n",
        "Your task is to implement this hashmap, apply the given queries, and to find the sum of all the results for get operations.\n",
        "\n",
        "Example\n",
        "\n",
        "For queryType = [\"insert\", \"insert\", \"addToValue\", \"addToKey\", \"get\"] and query = [[1, 2], [2, 3], [2], [1], [3]], the output should be solution(queryType, query) = 5.\n",
        "\n",
        "The hashmap looks like this after each query:\n",
        "\n",
        "1 query: {1: 2}\n",
        "2 query: {1: 2, 2: 3}\n",
        "3 query: {1: 4, 2: 5}\n",
        "4 query: {2: 4, 3: 5}\n",
        "5 query: answer is 5\n",
        "The result of the last get query for 3 is 5 in the resulting hashmap.\n",
        "\n",
        "\n",
        "\n",
        "For queryType = [\"insert\", \"addToValue\", \"get\", \"insert\", \"addToKey\", \"addToValue\", \"get\"] and query = [[1, 2], [2], [1], [2, 3], [1], [-1], [3]], the output should be solution(queryType, query) = 6.\n",
        "\n",
        "The hashmap looks like this after each query:\n",
        "\n",
        "1 query: {1: 2}\n",
        "2 query: {1: 4}\n",
        "3 query: answer is 4\n",
        "4 query: {1: 4, 2: 3}\n",
        "5 query: {2: 4, 3: 3}\n",
        "6 query: {2: 3, 3: 2}\n",
        "7 query: answer is 2\n",
        "The sum of the results for all the get queries is equal to 4 + 2 = 6.\n",
        "\n",
        "Input/Output\n",
        "\n",
        "[execution time limit] 4 seconds (py3)\n",
        "\n",
        "[input] array.string queryType\n",
        "\n",
        "Array of query types. It is guaranteed that each queryType[i] is either \"addToKey\", \"addToValue\", \"get\", or \"insert\".\n",
        "\n",
        "Guaranteed constraints:\n",
        "1 ≤ queryType.length ≤ 105.\n",
        "\n",
        "[input] array.array.integer query\n",
        "\n",
        "Array of queries, where each query is represented either by two numbers for insert query or by one number for other queries. It is guaranteed that during all queries all keys and values are in the range [-109, 109].\n",
        "\n",
        "Guaranteed constraints:\n",
        "query.length = queryType.length,\n",
        "1 ≤ query[i].length ≤ 2.\n",
        "\n",
        "[output] integer64\n",
        "\n",
        "The sum of the results for all get queries.\"\"\"\n",
        "\n",
        "\n",
        "\n",
        "\n",
        "\n",
        "\n",
        "\n",
        "\n",
        "\n",
        "from typing import List\n",
        "\n",
        "\n",
        "def solution(queryType, query):\n",
        "    hashmap = {}\n",
        "    result = 0\n",
        "    for i in range(len(queryType)):\n",
        "        if queryType[i] == \"insert\":\n",
        "            hashmap[query[i][0]] = query[i][1]\n",
        "\n",
        "\n",
        "        elif queryType[i] == \"addToKey\":\n",
        "            keys = list(hashmap.keys())\n",
        "            values=list(hashmap.values())\n",
        "            for j in range(len(keys)):\n",
        "                if keys[j] < 0:\n",
        "                  query[i][0]=0\n",
        "                  hashmap[key + query[i][0]] = values[j]\n",
        "                else:\n",
        "                  hashmap[key + query[i][0]] = values[j]\n",
        "\n",
        "        elif queryType[i] == \"addToValue\":\n",
        "            for key in hashmap.keys():\n",
        "                hashmap[key] += query[i][0]\n",
        "\n",
        "\n",
        "        elif queryType[i] == \"get\":\n",
        "            result += hashmap[query[i][0]]\n",
        "\n",
        "    return result\n",
        "\n",
        "\n",
        "s=solution(queryType=[\"addToKey\",\"addToKey\",\"insert\",\"addToValue\",\"addToValue\",\"get\",\"addToKey\",\"insert\",\"addToKey\",\"addToValue\"],query=[[-3],[-1],[0,-3],[3],[-1],[0],[-1],[-4,-5],[-1],[-4]])\n",
        "print(s)\n",
        "\n",
        "\n"
      ]
    }
  ]
}