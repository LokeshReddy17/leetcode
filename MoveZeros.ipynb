{
  "nbformat": 4,
  "nbformat_minor": 0,
  "metadata": {
    "colab": {
      "provenance": [],
      "authorship_tag": "ABX9TyNTtd9bacl7XaISJXmT3BpW",
      "include_colab_link": true
    },
    "kernelspec": {
      "name": "python3",
      "display_name": "Python 3"
    },
    "language_info": {
      "name": "python"
    }
  },
  "cells": [
    {
      "cell_type": "markdown",
      "metadata": {
        "id": "view-in-github",
        "colab_type": "text"
      },
      "source": [
        "<a href=\"https://colab.research.google.com/github/LokeshReddy17/leetcode/blob/main/MoveZeros.ipynb\" target=\"_parent\"><img src=\"https://colab.research.google.com/assets/colab-badge.svg\" alt=\"Open In Colab\"/></a>"
      ]
    },
    {
      "cell_type": "code",
      "execution_count": 2,
      "metadata": {
        "colab": {
          "base_uri": "https://localhost:8080/"
        },
        "id": "mIGH-KYXNesC",
        "outputId": "f6a323b0-c2dc-471d-d73b-a4106159f08d"
      },
      "outputs": [
        {
          "output_type": "stream",
          "name": "stdout",
          "text": [
            "[2, 1, 12, 15, 0, 0]\n"
          ]
        }
      ],
      "source": [
        "from typing import List\n",
        "\n",
        "\n",
        "class Solution:\n",
        "    def moveZeros(self, nums: List[int]) -> int:\n",
        "      j=0\n",
        "      for num in nums:\n",
        "        if (num!= 0):\n",
        "          nums[j]=num\n",
        "          j+=1\n",
        "      \n",
        "      for x in range(j,len(nums)):\n",
        "        nums[x] = 0\n",
        "\n",
        "      print(nums)      \n",
        "      \n",
        "s1=Solution()\n",
        "s1.moveZeros(nums = [2,0,1,0,12,15])"
      ]
    }
  ]
}