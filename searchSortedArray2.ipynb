{
  "nbformat": 4,
  "nbformat_minor": 0,
  "metadata": {
    "colab": {
      "provenance": [],
      "authorship_tag": "ABX9TyOKpUz0TQOdGd1zgt9ITdmk",
      "include_colab_link": true
    },
    "kernelspec": {
      "name": "python3",
      "display_name": "Python 3"
    },
    "language_info": {
      "name": "python"
    }
  },
  "cells": [
    {
      "cell_type": "markdown",
      "metadata": {
        "id": "view-in-github",
        "colab_type": "text"
      },
      "source": [
        "<a href=\"https://colab.research.google.com/github/LokeshReddy17/leetcode/blob/main/searchSortedArray2.ipynb\" target=\"_parent\"><img src=\"https://colab.research.google.com/assets/colab-badge.svg\" alt=\"Open In Colab\"/></a>"
      ]
    },
    {
      "cell_type": "code",
      "execution_count": 4,
      "metadata": {
        "colab": {
          "base_uri": "https://localhost:8080/"
        },
        "id": "zjJwVxBXf1Kf",
        "outputId": "75707976-c651-4a21-dc24-88d398f695e1"
      },
      "outputs": [
        {
          "output_type": "execute_result",
          "data": {
            "text/plain": [
              "4"
            ]
          },
          "metadata": {},
          "execution_count": 4
        }
      ],
      "source": [
        "from typing import List\n",
        "\n",
        "class Solution:\n",
        "    def search(self, nums: List[int], target: int) -> int:\n",
        "\n",
        "        low=0\n",
        "        high=len(nums)-1\n",
        "        \n",
        "        while low <= high:\n",
        "          mid=(low+high)//2          \n",
        "          if nums[mid] == target:\n",
        "              return mid\n",
        "          elif nums[mid] > target:\n",
        "              high=mid-1\n",
        "          elif nums[mid] < target:\n",
        "              low=mid+1\n",
        "          \n",
        "        return -1\n",
        "\n",
        "\n",
        "s1 = Solution()\n",
        "s1.search(nums = [-1,0,3,5,9,12], target = 9)"
      ]
    }
  ]
}