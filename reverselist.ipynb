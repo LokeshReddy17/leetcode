{
  "nbformat": 4,
  "nbformat_minor": 0,
  "metadata": {
    "colab": {
      "provenance": [],
      "authorship_tag": "ABX9TyMtTYZxoqkJODF8LTwJMWm6",
      "include_colab_link": true
    },
    "kernelspec": {
      "name": "python3",
      "display_name": "Python 3"
    },
    "language_info": {
      "name": "python"
    }
  },
  "cells": [
    {
      "cell_type": "markdown",
      "metadata": {
        "id": "view-in-github",
        "colab_type": "text"
      },
      "source": [
        "<a href=\"https://colab.research.google.com/github/LokeshReddy17/leetcode/blob/main/reverselist.ipynb\" target=\"_parent\"><img src=\"https://colab.research.google.com/assets/colab-badge.svg\" alt=\"Open In Colab\"/></a>"
      ]
    },
    {
      "cell_type": "code",
      "execution_count": 8,
      "metadata": {
        "colab": {
          "base_uri": "https://localhost:8080/"
        },
        "id": "J8QMU3eOnL25",
        "outputId": "886b3366-16f5-4c7f-f65c-c4b1d6bdc1c5"
      },
      "outputs": [
        {
          "output_type": "stream",
          "name": "stdout",
          "text": [
            "[(1, 3), (2, 2), (3, 1)]\n",
            "[(1, 3), (2, 2), (3, 1)]\n",
            "[(1, 3), (2, 2), (3, 1)]\n",
            "3\n"
          ]
        }
      ],
      "source": [
        "def solution(a, b, k):\n",
        "    \n",
        "    count = 0\n",
        "    b.reverse()\n",
        "    for x, y in zip(a, b):\n",
        "      if int(str(x) + str(y)) < k:\n",
        "        count += 1\n",
        "    return count\n",
        "\n",
        "\n",
        "s=solution(a = [1, 2, 3], b = [1, 2, 3], k = 32)\n",
        "print(s)"
      ]
    }
  ]
}