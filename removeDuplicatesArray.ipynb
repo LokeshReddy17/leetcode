{
  "nbformat": 4,
  "nbformat_minor": 0,
  "metadata": {
    "colab": {
      "provenance": [],
      "authorship_tag": "ABX9TyM8jcB1vsuh8v0QgD7Fj906",
      "include_colab_link": true
    },
    "kernelspec": {
      "name": "python3",
      "display_name": "Python 3"
    },
    "language_info": {
      "name": "python"
    }
  },
  "cells": [
    {
      "cell_type": "markdown",
      "metadata": {
        "id": "view-in-github",
        "colab_type": "text"
      },
      "source": [
        "<a href=\"https://colab.research.google.com/github/LokeshReddy17/leetcode/blob/main/removeDuplicatesArray.ipynb\" target=\"_parent\"><img src=\"https://colab.research.google.com/assets/colab-badge.svg\" alt=\"Open In Colab\"/></a>"
      ]
    },
    {
      "cell_type": "code",
      "execution_count": 9,
      "metadata": {
        "colab": {
          "base_uri": "https://localhost:8080/"
        },
        "id": "nPHMyivZUshv",
        "outputId": "88817d19-8d77-480a-cc71-6cabcce8b13d"
      },
      "outputs": [
        {
          "output_type": "execute_result",
          "data": {
            "text/plain": [
              "5"
            ]
          },
          "metadata": {},
          "execution_count": 9
        }
      ],
      "source": [
        "from typing import List\n",
        "\n",
        "class Solution:\n",
        "    def removeDuplicates(self, nums: List[int]) -> int:\n",
        "      i=1\n",
        "\n",
        "      for j in range(1,len(nums)):\n",
        "        if nums[j-1] != nums[j]:\n",
        "              nums[i] = nums[j]\n",
        "              i = i + 1\n",
        "      return i\n",
        "\n",
        "s1=Solution()\n",
        "s1.removeDuplicates([0,0,1,1,1,2,2,3,3,4])"
      ]
    }
  ]
}