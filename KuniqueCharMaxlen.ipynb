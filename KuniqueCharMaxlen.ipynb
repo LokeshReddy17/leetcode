{
  "nbformat": 4,
  "nbformat_minor": 0,
  "metadata": {
    "colab": {
      "provenance": [],
      "authorship_tag": "ABX9TyMKSg4MzpOK700ZnK7wPbGW",
      "include_colab_link": true
    },
    "kernelspec": {
      "name": "python3",
      "display_name": "Python 3"
    },
    "language_info": {
      "name": "python"
    }
  },
  "cells": [
    {
      "cell_type": "markdown",
      "metadata": {
        "id": "view-in-github",
        "colab_type": "text"
      },
      "source": [
        "<a href=\"https://colab.research.google.com/github/LokeshReddy17/leetcode/blob/main/KuniqueCharMaxlen.ipynb\" target=\"_parent\"><img src=\"https://colab.research.google.com/assets/colab-badge.svg\" alt=\"Open In Colab\"/></a>"
      ]
    },
    {
      "cell_type": "code",
      "execution_count": 52,
      "metadata": {
        "colab": {
          "base_uri": "https://localhost:8080/"
        },
        "id": "z01BbVUS949m",
        "outputId": "414730b2-d172-4029-87ff-96a1e97a7fbd"
      },
      "outputs": [
        {
          "output_type": "stream",
          "name": "stdout",
          "text": [
            "5\n"
          ]
        }
      ],
      "source": [
        "\"\"\"\n",
        "Have the function KUniqueCharacters(str) take the str parameter being passed \n",
        "\n",
        "and find the longest substring that contains k unique characters, where k will be the first character from the string. \n",
        "The substring will start from the second position in the string because the first character will be the integer k. \n",
        "For example: if str is \"2aabbacbaa\" there are several substrings that all contain 2 unique characters, namely: [\"aabba\", \"ac\", \"cb\", \"ba\"], \n",
        "but your program should return the maxumum length of substrings i.e \"aabba\" because it is the longest substring. \n",
        "If there are multiple longest substrings, then return the first substring encountered with the longest length. k will range from 1 to 6.\"\"\"\n",
        "\n",
        "\n",
        "from typing import List\n",
        "\n",
        "def KUniqueCharacters(string):\n",
        "\n",
        "    k = int(string[0])\n",
        "    str_value=string[1:len(string)]\n",
        "    \n",
        "    i=0\n",
        "    j=0\n",
        "    result=0\n",
        "    \n",
        "    m={}\n",
        "    while j < len(str_value):      \n",
        "      \n",
        "      \"\"\" create the map \"\"\"\n",
        "      if str_value[j] not in m:\n",
        "        k -=1 \n",
        "      m[str_value[j]]=j\n",
        "\n",
        "      \"\"\" shrink the window\"\"\"\n",
        "      while k < 0:\n",
        "        if m[str_value[i]] == i:\n",
        "          k += 1\n",
        "          del m[str_value[i]]\n",
        "        i += 1\n",
        "      result =max(result,j -i + 1)\n",
        "      j += 1\n",
        "    return result\n",
        "        \n",
        "s1=KUniqueCharacters(\"2aabbacbaa\")\n",
        "print(s1)\n",
        "\n"
      ]
    }
  ]
}