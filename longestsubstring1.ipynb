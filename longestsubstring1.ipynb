{
  "nbformat": 4,
  "nbformat_minor": 0,
  "metadata": {
    "colab": {
      "provenance": [],
      "authorship_tag": "ABX9TyMIl88rmuJ4WDn/LKzKyKDQ",
      "include_colab_link": true
    },
    "kernelspec": {
      "name": "python3",
      "display_name": "Python 3"
    },
    "language_info": {
      "name": "python"
    }
  },
  "cells": [
    {
      "cell_type": "markdown",
      "metadata": {
        "id": "view-in-github",
        "colab_type": "text"
      },
      "source": [
        "<a href=\"https://colab.research.google.com/github/LokeshReddy17/leetcode/blob/main/longestsubstring1.ipynb\" target=\"_parent\"><img src=\"https://colab.research.google.com/assets/colab-badge.svg\" alt=\"Open In Colab\"/></a>"
      ]
    },
    {
      "cell_type": "code",
      "execution_count": null,
      "metadata": {
        "id": "9pShZMo8f-6Y"
      },
      "outputs": [],
      "source": [
        "\"\"\"\n",
        "Given a string s, find the length of the longest substring without repeating characters.\n",
        "\n",
        "Example:\n",
        "\n",
        "Input: s = \"abcabcbb\"\n",
        "\n",
        "Output: 3\n",
        "\n",
        "Explanation: The longest substring without repeating characters is \"abc\".\n",
        "\"\"\"\n",
        "\n",
        "\n",
        "def lengthOfLongestSubstring(s):\n",
        "    if not s:\n",
        "        return 0\n",
        "    left = 0\n",
        "    max_len = 0\n",
        "    char_map = {}\n",
        "    for right, char in enumerate(s):\n",
        "        if char in char_map and char_map[char] >= left:\n",
        "            left = char_map[char] + 1\n",
        "        char_map[char] = right\n",
        "        max_len = max(max_len, right - left + 1)\n",
        "    return max_len\n",
        "\n"
      ]
    }
  ]
}